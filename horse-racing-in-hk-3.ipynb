{
 "cells": [
  {
   "cell_type": "code",
   "execution_count": 1,
   "id": "826cf127",
   "metadata": {
    "_cell_guid": "b1076dfc-b9ad-4769-8c92-a6c4dae69d19",
    "_uuid": "8f2839f25d086af736a60e9eeb907d3b93b6e0e5",
    "execution": {
     "iopub.execute_input": "2022-08-20T11:18:22.076175Z",
     "iopub.status.busy": "2022-08-20T11:18:22.075063Z",
     "iopub.status.idle": "2022-08-20T11:18:25.477282Z",
     "shell.execute_reply": "2022-08-20T11:18:25.476340Z"
    },
    "papermill": {
     "duration": 3.413724,
     "end_time": "2022-08-20T11:18:25.479954",
     "exception": false,
     "start_time": "2022-08-20T11:18:22.066230",
     "status": "completed"
    },
    "tags": []
   },
   "outputs": [
    {
     "data": {
      "text/html": [
       "<style type='text/css'>\n",
       ".datatable table.frame { margin-bottom: 0; }\n",
       ".datatable table.frame thead { border-bottom: none; }\n",
       ".datatable table.frame tr.coltypes td {  color: #FFFFFF;  line-height: 6px;  padding: 0 0.5em;}\n",
       ".datatable .bool    { background: #DDDD99; }\n",
       ".datatable .object  { background: #565656; }\n",
       ".datatable .int     { background: #5D9E5D; }\n",
       ".datatable .float   { background: #4040CC; }\n",
       ".datatable .str     { background: #CC4040; }\n",
       ".datatable .time    { background: #40CC40; }\n",
       ".datatable .row_index {  background: var(--jp-border-color3);  border-right: 1px solid var(--jp-border-color0);  color: var(--jp-ui-font-color3);  font-size: 9px;}\n",
       ".datatable .frame tbody td { text-align: left; }\n",
       ".datatable .frame tr.coltypes .row_index {  background: var(--jp-border-color0);}\n",
       ".datatable th:nth-child(2) { padding-left: 12px; }\n",
       ".datatable .hellipsis {  color: var(--jp-cell-editor-border-color);}\n",
       ".datatable .vellipsis {  background: var(--jp-layout-color0);  color: var(--jp-cell-editor-border-color);}\n",
       ".datatable .na {  color: var(--jp-cell-editor-border-color);  font-size: 80%;}\n",
       ".datatable .sp {  opacity: 0.25;}\n",
       ".datatable .footer { font-size: 9px; }\n",
       ".datatable .frame_dimensions {  background: var(--jp-border-color3);  border-top: 1px solid var(--jp-border-color0);  color: var(--jp-ui-font-color3);  display: inline-block;  opacity: 0.6;  padding: 1px 10px 1px 5px;}\n",
       "</style>\n"
      ],
      "text/plain": [
       "<IPython.core.display.HTML object>"
      ]
     },
     "metadata": {},
     "output_type": "display_data"
    }
   ],
   "source": [
    "import pandas as pd\n",
    "import numpy as np\n",
    "from time import time\n",
    "import seaborn as sns\n",
    "import matplotlib.pyplot as plt\n",
    "from sklearn.model_selection import train_test_split\n",
    "from imblearn.under_sampling import RandomUnderSampler\n",
    "from imblearn.over_sampling import SMOTE\n",
    "\n",
    "from sklearn.neighbors import KNeighborsClassifier\n",
    "from sklearn.naive_bayes import MultinomialNB\n",
    "from sklearn import metrics\n",
    "from sklearn.model_selection import cross_val_score\n",
    "from sklearn import linear_model\n",
    "from sklearn.neighbors import KNeighborsRegressor\n",
    "from sklearn.tree import DecisionTreeRegressor\n",
    "from sklearn.ensemble import RandomForestRegressor\n",
    "from sklearn.model_selection import RandomizedSearchCV\n",
    "\n",
    "\n",
    "import lightgbm as lgb\n",
    "from sklearn.metrics import precision_score, classification_report, confusion_matrix"
   ]
  },
  {
   "cell_type": "code",
   "execution_count": 2,
   "id": "803743f1",
   "metadata": {
    "execution": {
     "iopub.execute_input": "2022-08-20T11:18:25.492716Z",
     "iopub.status.busy": "2022-08-20T11:18:25.492403Z",
     "iopub.status.idle": "2022-08-20T11:18:25.859833Z",
     "shell.execute_reply": "2022-08-20T11:18:25.858926Z"
    },
    "papermill": {
     "duration": 0.376304,
     "end_time": "2022-08-20T11:18:25.862163",
     "exception": false,
     "start_time": "2022-08-20T11:18:25.485859",
     "status": "completed"
    },
    "tags": []
   },
   "outputs": [],
   "source": [
    "runs = pd.read_csv(\"../input/hkracing/runs.csv\")\n",
    "races = pd.read_csv('../input/hkracing/races.csv')"
   ]
  },
  {
   "cell_type": "code",
   "execution_count": 3,
   "id": "6710d8ac",
   "metadata": {
    "execution": {
     "iopub.execute_input": "2022-08-20T11:18:25.876088Z",
     "iopub.status.busy": "2022-08-20T11:18:25.875541Z",
     "iopub.status.idle": "2022-08-20T11:18:25.890213Z",
     "shell.execute_reply": "2022-08-20T11:18:25.889367Z"
    },
    "papermill": {
     "duration": 0.023062,
     "end_time": "2022-08-20T11:18:25.892170",
     "exception": false,
     "start_time": "2022-08-20T11:18:25.869108",
     "status": "completed"
    },
    "tags": []
   },
   "outputs": [],
   "source": [
    "runs_data = runs[['race_id', 'won', 'horse_age', 'horse_country', 'horse_type', 'horse_rating',\n",
    "       'horse_gear', 'declared_weight', 'actual_weight', 'draw', 'win_odds',\n",
    "       'place_odds', 'horse_id']]"
   ]
  },
  {
   "cell_type": "code",
   "execution_count": 4,
   "id": "75fbd13f",
   "metadata": {
    "execution": {
     "iopub.execute_input": "2022-08-20T11:18:25.905335Z",
     "iopub.status.busy": "2022-08-20T11:18:25.903932Z",
     "iopub.status.idle": "2022-08-20T11:18:25.910578Z",
     "shell.execute_reply": "2022-08-20T11:18:25.909748Z"
    },
    "papermill": {
     "duration": 0.014851,
     "end_time": "2022-08-20T11:18:25.912594",
     "exception": false,
     "start_time": "2022-08-20T11:18:25.897743",
     "status": "completed"
    },
    "tags": []
   },
   "outputs": [],
   "source": [
    "races_data = races[['race_id', 'venue', 'config', 'surface', 'distance', 'going', 'race_class', 'date']]"
   ]
  },
  {
   "cell_type": "code",
   "execution_count": 5,
   "id": "b286ed78",
   "metadata": {
    "execution": {
     "iopub.execute_input": "2022-08-20T11:18:25.925558Z",
     "iopub.status.busy": "2022-08-20T11:18:25.924189Z",
     "iopub.status.idle": "2022-08-20T11:18:25.984118Z",
     "shell.execute_reply": "2022-08-20T11:18:25.983160Z"
    },
    "papermill": {
     "duration": 0.068348,
     "end_time": "2022-08-20T11:18:25.986353",
     "exception": false,
     "start_time": "2022-08-20T11:18:25.918005",
     "status": "completed"
    },
    "tags": []
   },
   "outputs": [
    {
     "data": {
      "text/plain": [
       "True         2\n",
       "False    79445\n",
       "Name: horse_country, dtype: int64"
      ]
     },
     "execution_count": 5,
     "metadata": {},
     "output_type": "execute_result"
    }
   ],
   "source": [
    "df = pd.merge(runs_data, races_data)\n",
    "df.horse_country.isnull().value_counts(ascending=True)"
   ]
  },
  {
   "cell_type": "code",
   "execution_count": 6,
   "id": "ca9eb83d",
   "metadata": {
    "execution": {
     "iopub.execute_input": "2022-08-20T11:18:25.999017Z",
     "iopub.status.busy": "2022-08-20T11:18:25.998736Z",
     "iopub.status.idle": "2022-08-20T11:18:26.053260Z",
     "shell.execute_reply": "2022-08-20T11:18:26.052298Z"
    },
    "papermill": {
     "duration": 0.063797,
     "end_time": "2022-08-20T11:18:26.055885",
     "exception": false,
     "start_time": "2022-08-20T11:18:25.992088",
     "status": "completed"
    },
    "tags": []
   },
   "outputs": [],
   "source": [
    "df = df.dropna()"
   ]
  },
  {
   "cell_type": "code",
   "execution_count": 7,
   "id": "6f1f91c4",
   "metadata": {
    "execution": {
     "iopub.execute_input": "2022-08-20T11:18:26.068688Z",
     "iopub.status.busy": "2022-08-20T11:18:26.068361Z",
     "iopub.status.idle": "2022-08-20T11:18:26.089222Z",
     "shell.execute_reply": "2022-08-20T11:18:26.088252Z"
    },
    "papermill": {
     "duration": 0.029609,
     "end_time": "2022-08-20T11:18:26.091284",
     "exception": false,
     "start_time": "2022-08-20T11:18:26.061675",
     "status": "completed"
    },
    "tags": []
   },
   "outputs": [
    {
     "data": {
      "text/plain": [
       "dtype('<M8[ns]')"
      ]
     },
     "execution_count": 7,
     "metadata": {},
     "output_type": "execute_result"
    }
   ],
   "source": [
    "df.date = pd.to_datetime(df.date)\n",
    "df.date.dtype"
   ]
  },
  {
   "cell_type": "code",
   "execution_count": 8,
   "id": "23fbeabb",
   "metadata": {
    "execution": {
     "iopub.execute_input": "2022-08-20T11:18:26.104371Z",
     "iopub.status.busy": "2022-08-20T11:18:26.104094Z",
     "iopub.status.idle": "2022-08-20T11:18:26.357855Z",
     "shell.execute_reply": "2022-08-20T11:18:26.356857Z"
    },
    "papermill": {
     "duration": 0.262953,
     "end_time": "2022-08-20T11:18:26.360363",
     "exception": false,
     "start_time": "2022-08-20T11:18:26.097410",
     "status": "completed"
    },
    "tags": []
   },
   "outputs": [
    {
     "name": "stdout",
     "output_type": "stream",
     "text": [
      "The dataset was collected from 02 June 1997 to 05 June 2005, which contains information about 4280 horses and 6047 races. \n"
     ]
    }
   ],
   "source": [
    "start_time = min(df.date).strftime('%d %B %Y')\n",
    "end_time = max(df.date).strftime('%d %B %Y')\n",
    "no_of_horses = df.horse_id.nunique()\n",
    "no_of_races = df.race_id.nunique()\n",
    "\n",
    "print(f'The dataset was collected from {start_time} to {end_time}, which contains information about {no_of_horses} horses and {no_of_races} races. ')"
   ]
  },
  {
   "cell_type": "code",
   "execution_count": 9,
   "id": "ecc7ced5",
   "metadata": {
    "execution": {
     "iopub.execute_input": "2022-08-20T11:18:26.374306Z",
     "iopub.status.busy": "2022-08-20T11:18:26.373590Z",
     "iopub.status.idle": "2022-08-20T11:18:26.385529Z",
     "shell.execute_reply": "2022-08-20T11:18:26.384679Z"
    },
    "papermill": {
     "duration": 0.021467,
     "end_time": "2022-08-20T11:18:26.387671",
     "exception": false,
     "start_time": "2022-08-20T11:18:26.366204",
     "status": "completed"
    },
    "tags": []
   },
   "outputs": [],
   "source": [
    "df = df.drop(columns=['horse_id', 'date'])"
   ]
  },
  {
   "cell_type": "code",
   "execution_count": 10,
   "id": "7eec198f",
   "metadata": {
    "execution": {
     "iopub.execute_input": "2022-08-20T11:18:26.401454Z",
     "iopub.status.busy": "2022-08-20T11:18:26.399807Z",
     "iopub.status.idle": "2022-08-20T11:18:26.405171Z",
     "shell.execute_reply": "2022-08-20T11:18:26.404163Z"
    },
    "papermill": {
     "duration": 0.013716,
     "end_time": "2022-08-20T11:18:26.407115",
     "exception": false,
     "start_time": "2022-08-20T11:18:26.393399",
     "status": "completed"
    },
    "tags": []
   },
   "outputs": [],
   "source": [
    "def horse_gear_impute(cols):\n",
    "    if cols == '--':\n",
    "        return 0\n",
    "    else: \n",
    "        return 1"
   ]
  },
  {
   "cell_type": "code",
   "execution_count": 11,
   "id": "ec9807a5",
   "metadata": {
    "execution": {
     "iopub.execute_input": "2022-08-20T11:18:26.419435Z",
     "iopub.status.busy": "2022-08-20T11:18:26.419174Z",
     "iopub.status.idle": "2022-08-20T11:18:26.451539Z",
     "shell.execute_reply": "2022-08-20T11:18:26.450679Z"
    },
    "papermill": {
     "duration": 0.040803,
     "end_time": "2022-08-20T11:18:26.453507",
     "exception": false,
     "start_time": "2022-08-20T11:18:26.412704",
     "status": "completed"
    },
    "tags": []
   },
   "outputs": [],
   "source": [
    "df.horse_gear = df.horse_gear.apply(horse_gear_impute)"
   ]
  },
  {
   "cell_type": "code",
   "execution_count": 12,
   "id": "78d4b056",
   "metadata": {
    "execution": {
     "iopub.execute_input": "2022-08-20T11:18:26.465868Z",
     "iopub.status.busy": "2022-08-20T11:18:26.465592Z",
     "iopub.status.idle": "2022-08-20T11:18:26.525261Z",
     "shell.execute_reply": "2022-08-20T11:18:26.524360Z"
    },
    "papermill": {
     "duration": 0.068395,
     "end_time": "2022-08-20T11:18:26.527516",
     "exception": false,
     "start_time": "2022-08-20T11:18:26.459121",
     "status": "completed"
    },
    "tags": []
   },
   "outputs": [],
   "source": [
    "df = pd.get_dummies(df, drop_first=True)"
   ]
  },
  {
   "cell_type": "code",
   "execution_count": 13,
   "id": "de08afec",
   "metadata": {
    "execution": {
     "iopub.execute_input": "2022-08-20T11:18:26.540704Z",
     "iopub.status.busy": "2022-08-20T11:18:26.540413Z",
     "iopub.status.idle": "2022-08-20T11:18:26.556032Z",
     "shell.execute_reply": "2022-08-20T11:18:26.555138Z"
    },
    "papermill": {
     "duration": 0.024481,
     "end_time": "2022-08-20T11:18:26.558125",
     "exception": false,
     "start_time": "2022-08-20T11:18:26.533644",
     "status": "completed"
    },
    "tags": []
   },
   "outputs": [],
   "source": [
    "last_raceid = max(df.race_id)\n",
    "last_race = df[df.race_id == last_raceid]"
   ]
  },
  {
   "cell_type": "code",
   "execution_count": 14,
   "id": "eb608645",
   "metadata": {
    "execution": {
     "iopub.execute_input": "2022-08-20T11:18:26.570520Z",
     "iopub.status.busy": "2022-08-20T11:18:26.570246Z",
     "iopub.status.idle": "2022-08-20T11:18:26.579327Z",
     "shell.execute_reply": "2022-08-20T11:18:26.578433Z"
    },
    "papermill": {
     "duration": 0.017401,
     "end_time": "2022-08-20T11:18:26.581237",
     "exception": false,
     "start_time": "2022-08-20T11:18:26.563836",
     "status": "completed"
    },
    "tags": []
   },
   "outputs": [],
   "source": [
    "new_data = df[:75696]   # drop the last race data for modeling\n",
    "new_data = new_data.drop(columns='race_id')   # drop the unnecessary race_id column"
   ]
  },
  {
   "cell_type": "code",
   "execution_count": 15,
   "id": "68331613",
   "metadata": {
    "execution": {
     "iopub.execute_input": "2022-08-20T11:18:26.595355Z",
     "iopub.status.busy": "2022-08-20T11:18:26.593815Z",
     "iopub.status.idle": "2022-08-20T11:18:26.603123Z",
     "shell.execute_reply": "2022-08-20T11:18:26.602215Z"
    },
    "papermill": {
     "duration": 0.018199,
     "end_time": "2022-08-20T11:18:26.605142",
     "exception": false,
     "start_time": "2022-08-20T11:18:26.586943",
     "status": "completed"
    },
    "tags": []
   },
   "outputs": [],
   "source": [
    "X = new_data.drop(columns='won')\n",
    "y = new_data['won']"
   ]
  },
  {
   "cell_type": "code",
   "execution_count": 16,
   "id": "90733206",
   "metadata": {
    "execution": {
     "iopub.execute_input": "2022-08-20T11:18:26.618726Z",
     "iopub.status.busy": "2022-08-20T11:18:26.617340Z",
     "iopub.status.idle": "2022-08-20T11:18:26.648247Z",
     "shell.execute_reply": "2022-08-20T11:18:26.647385Z"
    },
    "papermill": {
     "duration": 0.039504,
     "end_time": "2022-08-20T11:18:26.650283",
     "exception": false,
     "start_time": "2022-08-20T11:18:26.610779",
     "status": "completed"
    },
    "tags": []
   },
   "outputs": [],
   "source": [
    "X_train, X_test, y_train, y_test = train_test_split(X, y, test_size=0.2, random_state=4)"
   ]
  },
  {
   "cell_type": "code",
   "execution_count": 17,
   "id": "44b4fe98",
   "metadata": {
    "execution": {
     "iopub.execute_input": "2022-08-20T11:18:26.663411Z",
     "iopub.status.busy": "2022-08-20T11:18:26.662655Z",
     "iopub.status.idle": "2022-08-20T11:20:45.950436Z",
     "shell.execute_reply": "2022-08-20T11:20:45.949260Z"
    },
    "papermill": {
     "duration": 139.296749,
     "end_time": "2022-08-20T11:20:45.952930",
     "exception": false,
     "start_time": "2022-08-20T11:18:26.656181",
     "status": "completed"
    },
    "tags": []
   },
   "outputs": [],
   "source": [
    "k_range = range(1,10)\n",
    "scores = {}\n",
    "scores_list = []\n",
    "\n",
    "for k in k_range:\n",
    "    knn = KNeighborsClassifier(n_neighbors=k)\n",
    "    knn.fit(X_train, y_train)\n",
    "    y_pred = knn.predict(X_test)\n",
    "    # precision ratio: tp / (tp + fp), aiming at minimize fp (predict: win, actual: lose)\n",
    "    scores[k] = precision_score(y_test, y_pred)\n",
    "    scores_list.append(precision_score(y_test, y_pred))"
   ]
  },
  {
   "cell_type": "code",
   "execution_count": 18,
   "id": "ffe528e3",
   "metadata": {
    "execution": {
     "iopub.execute_input": "2022-08-20T11:20:45.966141Z",
     "iopub.status.busy": "2022-08-20T11:20:45.965834Z",
     "iopub.status.idle": "2022-08-20T11:20:45.973206Z",
     "shell.execute_reply": "2022-08-20T11:20:45.972258Z"
    },
    "papermill": {
     "duration": 0.016193,
     "end_time": "2022-08-20T11:20:45.975221",
     "exception": false,
     "start_time": "2022-08-20T11:20:45.959028",
     "status": "completed"
    },
    "tags": []
   },
   "outputs": [
    {
     "data": {
      "text/plain": [
       "(8, 0.3170731707317073)"
      ]
     },
     "execution_count": 18,
     "metadata": {},
     "output_type": "execute_result"
    }
   ],
   "source": [
    "import operator\n",
    "max(scores.items(), key=operator.itemgetter(1))"
   ]
  },
  {
   "cell_type": "code",
   "execution_count": 19,
   "id": "5d8f9f4a",
   "metadata": {
    "execution": {
     "iopub.execute_input": "2022-08-20T11:20:45.987751Z",
     "iopub.status.busy": "2022-08-20T11:20:45.987411Z",
     "iopub.status.idle": "2022-08-20T11:20:46.983823Z",
     "shell.execute_reply": "2022-08-20T11:20:46.982821Z"
    },
    "papermill": {
     "duration": 1.005869,
     "end_time": "2022-08-20T11:20:46.986850",
     "exception": false,
     "start_time": "2022-08-20T11:20:45.980981",
     "status": "completed"
    },
    "tags": []
   },
   "outputs": [
    {
     "name": "stdout",
     "output_type": "stream",
     "text": [
      "MultinomialNB average precision: 0.13422945509692777\n"
     ]
    }
   ],
   "source": [
    "mnb = MultinomialNB()\n",
    "scores = cross_val_score(mnb, X_train, y_train, cv=10, scoring='precision')\n",
    "average_precision = sum(scores) / len(scores) \n",
    "print(f'MultinomialNB average precision: {average_precision}')"
   ]
  },
  {
   "cell_type": "code",
   "execution_count": 20,
   "id": "d227cf1c",
   "metadata": {
    "execution": {
     "iopub.execute_input": "2022-08-20T11:20:47.021539Z",
     "iopub.status.busy": "2022-08-20T11:20:47.021166Z",
     "iopub.status.idle": "2022-08-20T11:20:47.935261Z",
     "shell.execute_reply": "2022-08-20T11:20:47.932255Z"
    },
    "papermill": {
     "duration": 0.938441,
     "end_time": "2022-08-20T11:20:47.940217",
     "exception": false,
     "start_time": "2022-08-20T11:20:47.001776",
     "status": "completed"
    },
    "tags": []
   },
   "outputs": [
    {
     "name": "stdout",
     "output_type": "stream",
     "text": [
      "[0.03874367 0.04104367 0.03780946 0.03961284 0.03484063]\n",
      "0.03841005467497516\n"
     ]
    }
   ],
   "source": [
    "lr= linear_model.LinearRegression()\n",
    "cv= cross_val_score(lr,X_train,y_train,cv=5)\n",
    "print(cv)\n",
    "print(cv.mean())"
   ]
  },
  {
   "cell_type": "code",
   "execution_count": 21,
   "id": "f8f84f92",
   "metadata": {
    "execution": {
     "iopub.execute_input": "2022-08-20T11:20:48.000299Z",
     "iopub.status.busy": "2022-08-20T11:20:47.999665Z",
     "iopub.status.idle": "2022-08-20T11:21:41.951974Z",
     "shell.execute_reply": "2022-08-20T11:21:41.950784Z"
    },
    "papermill": {
     "duration": 53.994151,
     "end_time": "2022-08-20T11:21:41.962026",
     "exception": false,
     "start_time": "2022-08-20T11:20:47.967875",
     "status": "completed"
    },
    "tags": []
   },
   "outputs": [
    {
     "name": "stdout",
     "output_type": "stream",
     "text": [
      "[-0.13502545 -0.11486084 -0.14137424 -0.12304418 -0.1556116 ]\n",
      "-0.1339832618991806\n"
     ]
    }
   ],
   "source": [
    "knn= KNeighborsRegressor(n_neighbors=4)\n",
    "cv= cross_val_score(knn,X_train,y_train,cv=5)\n",
    "print(cv)\n",
    "print(cv.mean())"
   ]
  },
  {
   "cell_type": "code",
   "execution_count": 22,
   "id": "bffa2b06",
   "metadata": {
    "execution": {
     "iopub.execute_input": "2022-08-20T11:21:41.986756Z",
     "iopub.status.busy": "2022-08-20T11:21:41.986099Z",
     "iopub.status.idle": "2022-08-20T11:21:44.561354Z",
     "shell.execute_reply": "2022-08-20T11:21:44.560106Z"
    },
    "papermill": {
     "duration": 2.593393,
     "end_time": "2022-08-20T11:21:44.564316",
     "exception": false,
     "start_time": "2022-08-20T11:21:41.970923",
     "status": "completed"
    },
    "tags": []
   },
   "outputs": [
    {
     "name": "stdout",
     "output_type": "stream",
     "text": [
      "[-0.91554053 -0.89854578 -1.06022677 -0.987343   -1.02642104]\n",
      "-0.9776154234326991\n"
     ]
    }
   ],
   "source": [
    "tree=DecisionTreeRegressor(random_state=1)\n",
    "cv= cross_val_score(tree,X_train,y_train,cv=5)\n",
    "print(cv)\n",
    "print(cv.mean())"
   ]
  },
  {
   "cell_type": "code",
   "execution_count": 23,
   "id": "5d33463d",
   "metadata": {
    "execution": {
     "iopub.execute_input": "2022-08-20T11:21:44.578412Z",
     "iopub.status.busy": "2022-08-20T11:21:44.578110Z",
     "iopub.status.idle": "2022-08-20T11:23:43.065194Z",
     "shell.execute_reply": "2022-08-20T11:23:43.060646Z"
    },
    "papermill": {
     "duration": 118.499202,
     "end_time": "2022-08-20T11:23:43.070329",
     "exception": false,
     "start_time": "2022-08-20T11:21:44.571127",
     "status": "completed"
    },
    "tags": []
   },
   "outputs": [
    {
     "name": "stdout",
     "output_type": "stream",
     "text": [
      "[0.04618942 0.04726448 0.05227916 0.05094625 0.03073855]\n",
      "0.045483571675523596\n"
     ]
    }
   ],
   "source": [
    "rf=RandomForestRegressor(random_state=1)\n",
    "cv= cross_val_score(rf,X_train,y_train,cv=5)\n",
    "print(cv)\n",
    "print(cv.mean())"
   ]
  },
  {
   "cell_type": "code",
   "execution_count": 24,
   "id": "9922d6ee",
   "metadata": {
    "execution": {
     "iopub.execute_input": "2022-08-20T11:23:43.084094Z",
     "iopub.status.busy": "2022-08-20T11:23:43.083801Z",
     "iopub.status.idle": "2022-08-20T11:24:14.046609Z",
     "shell.execute_reply": "2022-08-20T11:24:14.045641Z"
    },
    "papermill": {
     "duration": 30.97301,
     "end_time": "2022-08-20T11:24:14.049433",
     "exception": false,
     "start_time": "2022-08-20T11:23:43.076423",
     "status": "completed"
    },
    "tags": []
   },
   "outputs": [],
   "source": [
    "lr.fit(X_train,y_train)\n",
    "y_lr=lr.predict(X_test)\n",
    "#\"---------------------------------------------------------------------------------------------------\")\n",
    "rf.fit(X_train,y_train)\n",
    "y_rf=rf.predict(X_test)"
   ]
  },
  {
   "cell_type": "code",
   "execution_count": 25,
   "id": "9962c4ec",
   "metadata": {
    "execution": {
     "iopub.execute_input": "2022-08-20T11:24:14.063883Z",
     "iopub.status.busy": "2022-08-20T11:24:14.063181Z",
     "iopub.status.idle": "2022-08-20T11:24:14.077300Z",
     "shell.execute_reply": "2022-08-20T11:24:14.075849Z"
    },
    "papermill": {
     "duration": 0.023931,
     "end_time": "2022-08-20T11:24:14.079807",
     "exception": false,
     "start_time": "2022-08-20T11:24:14.055876",
     "status": "completed"
    },
    "tags": []
   },
   "outputs": [
    {
     "name": "stdout",
     "output_type": "stream",
     "text": [
      "Linear Regression results:\n",
      "R^2 0.03948219722399671\n",
      "Mean Absolute Error 0.1501344972753171\n",
      "Mean Squared Error 0.07126917089106909\n",
      "Root Mean Squared Error 0.00507929471950041\n",
      "---------------------------------------------------------------------------------------------------\n",
      "Random Forest results:\n",
      "R^2 0.0522783989177672\n",
      "Mean Absolute Error 0.1439550858652576\n",
      "Mean Squared Error 0.07031970937912813\n",
      "Root Mean Squared Error 0.00494486152716504\n"
     ]
    }
   ],
   "source": [
    "print(\"Linear Regression results:\")\n",
    "print(\"R^2\",metrics.r2_score(y_test,y_lr))\n",
    "print(\"Mean Absolute Error\", metrics.mean_absolute_error(y_test,y_lr))\n",
    "print(\"Mean Squared Error\", metrics.mean_squared_error(y_test,y_lr))\n",
    "print(\"Root Mean Squared Error\",np.square(metrics.mean_squared_error(y_test,y_lr)))\n",
    "\n",
    "print(\"---------------------------------------------------------------------------------------------------\")\n",
    "\n",
    "print(\"Random Forest results:\")\n",
    "print(\"R^2\",metrics.r2_score(y_test,y_rf))\n",
    "print(\"Mean Absolute Error\", metrics.mean_absolute_error(y_test,y_rf))\n",
    "print(\"Mean Squared Error\", metrics.mean_squared_error(y_test,y_rf))\n",
    "print(\"Root Mean Squared Error\",np.square(metrics.mean_squared_error(y_test,y_rf)))"
   ]
  },
  {
   "cell_type": "code",
   "execution_count": null,
   "id": "e294b732",
   "metadata": {
    "papermill": {
     "duration": 0.006023,
     "end_time": "2022-08-20T11:24:14.091961",
     "exception": false,
     "start_time": "2022-08-20T11:24:14.085938",
     "status": "completed"
    },
    "tags": []
   },
   "outputs": [],
   "source": []
  },
  {
   "cell_type": "code",
   "execution_count": null,
   "id": "794b6d68",
   "metadata": {
    "papermill": {
     "duration": 0.005809,
     "end_time": "2022-08-20T11:24:14.103668",
     "exception": false,
     "start_time": "2022-08-20T11:24:14.097859",
     "status": "completed"
    },
    "tags": []
   },
   "outputs": [],
   "source": []
  }
 ],
 "metadata": {
  "kernelspec": {
   "display_name": "Python 3",
   "language": "python",
   "name": "python3"
  },
  "language_info": {
   "codemirror_mode": {
    "name": "ipython",
    "version": 3
   },
   "file_extension": ".py",
   "mimetype": "text/x-python",
   "name": "python",
   "nbconvert_exporter": "python",
   "pygments_lexer": "ipython3",
   "version": "3.7.12"
  },
  "papermill": {
   "default_parameters": {},
   "duration": 361.108911,
   "end_time": "2022-08-20T11:24:15.132019",
   "environment_variables": {},
   "exception": null,
   "input_path": "__notebook__.ipynb",
   "output_path": "__notebook__.ipynb",
   "parameters": {},
   "start_time": "2022-08-20T11:18:14.023108",
   "version": "2.3.4"
  }
 },
 "nbformat": 4,
 "nbformat_minor": 5
}
