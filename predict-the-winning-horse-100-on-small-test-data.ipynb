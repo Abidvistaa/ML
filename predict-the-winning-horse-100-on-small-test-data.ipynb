{
 "cells": [
  {
   "cell_type": "code",
   "execution_count": 1,
   "metadata": {},
   "outputs": [
    {
     "name": "stdout",
     "output_type": "stream",
     "text": [
      "/kaggle/input/hkracing/runs.csv\n",
      "/kaggle/input/hkracing/races.csv\n"
     ]
    }
   ],
   "source": [
    "import os\n",
    "for dirname, _, filenames in os.walk('/kaggle/input'):\n",
    "    for filename in filenames:\n",
    "        print(os.path.join(dirname, filename))"
   ]
  },
  {
   "cell_type": "markdown",
   "metadata": {},
   "source": [
    "# SELECT FEATURES & DATA CLEANING"
   ]
  },
  {
   "cell_type": "code",
   "execution_count": 2,
   "metadata": {
    "slideshow": {
     "slide_type": "skip"
    }
   },
   "outputs": [],
   "source": [
    "import pandas as pd"
   ]
  },
  {
   "cell_type": "code",
   "execution_count": 3,
   "metadata": {
    "slideshow": {
     "slide_type": "fragment"
    }
   },
   "outputs": [
    {
     "data": {
      "text/html": [
       "<div>\n",
       "<style scoped>\n",
       "    .dataframe tbody tr th:only-of-type {\n",
       "        vertical-align: middle;\n",
       "    }\n",
       "\n",
       "    .dataframe tbody tr th {\n",
       "        vertical-align: top;\n",
       "    }\n",
       "\n",
       "    .dataframe thead th {\n",
       "        text-align: right;\n",
       "    }\n",
       "</style>\n",
       "<table border=\"1\" class=\"dataframe\">\n",
       "  <thead>\n",
       "    <tr style=\"text-align: right;\">\n",
       "      <th></th>\n",
       "      <th>race_id</th>\n",
       "      <th>horse_no</th>\n",
       "      <th>horse_id</th>\n",
       "      <th>result</th>\n",
       "      <th>won</th>\n",
       "      <th>lengths_behind</th>\n",
       "      <th>horse_age</th>\n",
       "      <th>horse_country</th>\n",
       "      <th>horse_type</th>\n",
       "      <th>horse_rating</th>\n",
       "      <th>...</th>\n",
       "      <th>time2</th>\n",
       "      <th>time3</th>\n",
       "      <th>time4</th>\n",
       "      <th>time5</th>\n",
       "      <th>time6</th>\n",
       "      <th>finish_time</th>\n",
       "      <th>win_odds</th>\n",
       "      <th>place_odds</th>\n",
       "      <th>trainer_id</th>\n",
       "      <th>jockey_id</th>\n",
       "    </tr>\n",
       "  </thead>\n",
       "  <tbody>\n",
       "    <tr>\n",
       "      <td>0</td>\n",
       "      <td>0</td>\n",
       "      <td>1</td>\n",
       "      <td>3917</td>\n",
       "      <td>10</td>\n",
       "      <td>0.0</td>\n",
       "      <td>8.00</td>\n",
       "      <td>3</td>\n",
       "      <td>AUS</td>\n",
       "      <td>Gelding</td>\n",
       "      <td>60</td>\n",
       "      <td>...</td>\n",
       "      <td>21.59</td>\n",
       "      <td>23.86</td>\n",
       "      <td>24.62</td>\n",
       "      <td>NaN</td>\n",
       "      <td>NaN</td>\n",
       "      <td>83.92</td>\n",
       "      <td>9.7</td>\n",
       "      <td>3.7</td>\n",
       "      <td>118</td>\n",
       "      <td>2</td>\n",
       "    </tr>\n",
       "    <tr>\n",
       "      <td>1</td>\n",
       "      <td>0</td>\n",
       "      <td>2</td>\n",
       "      <td>2157</td>\n",
       "      <td>8</td>\n",
       "      <td>0.0</td>\n",
       "      <td>5.75</td>\n",
       "      <td>3</td>\n",
       "      <td>NZ</td>\n",
       "      <td>Gelding</td>\n",
       "      <td>60</td>\n",
       "      <td>...</td>\n",
       "      <td>21.99</td>\n",
       "      <td>23.30</td>\n",
       "      <td>23.70</td>\n",
       "      <td>NaN</td>\n",
       "      <td>NaN</td>\n",
       "      <td>83.56</td>\n",
       "      <td>16.0</td>\n",
       "      <td>4.9</td>\n",
       "      <td>164</td>\n",
       "      <td>57</td>\n",
       "    </tr>\n",
       "    <tr>\n",
       "      <td>2</td>\n",
       "      <td>0</td>\n",
       "      <td>3</td>\n",
       "      <td>858</td>\n",
       "      <td>7</td>\n",
       "      <td>0.0</td>\n",
       "      <td>4.75</td>\n",
       "      <td>3</td>\n",
       "      <td>NZ</td>\n",
       "      <td>Gelding</td>\n",
       "      <td>60</td>\n",
       "      <td>...</td>\n",
       "      <td>21.59</td>\n",
       "      <td>23.90</td>\n",
       "      <td>24.22</td>\n",
       "      <td>NaN</td>\n",
       "      <td>NaN</td>\n",
       "      <td>83.40</td>\n",
       "      <td>3.5</td>\n",
       "      <td>1.5</td>\n",
       "      <td>137</td>\n",
       "      <td>18</td>\n",
       "    </tr>\n",
       "    <tr>\n",
       "      <td>3</td>\n",
       "      <td>0</td>\n",
       "      <td>4</td>\n",
       "      <td>1853</td>\n",
       "      <td>9</td>\n",
       "      <td>0.0</td>\n",
       "      <td>6.25</td>\n",
       "      <td>3</td>\n",
       "      <td>SAF</td>\n",
       "      <td>Gelding</td>\n",
       "      <td>60</td>\n",
       "      <td>...</td>\n",
       "      <td>21.83</td>\n",
       "      <td>23.70</td>\n",
       "      <td>24.00</td>\n",
       "      <td>NaN</td>\n",
       "      <td>NaN</td>\n",
       "      <td>83.62</td>\n",
       "      <td>39.0</td>\n",
       "      <td>11.0</td>\n",
       "      <td>80</td>\n",
       "      <td>59</td>\n",
       "    </tr>\n",
       "    <tr>\n",
       "      <td>4</td>\n",
       "      <td>0</td>\n",
       "      <td>5</td>\n",
       "      <td>2796</td>\n",
       "      <td>6</td>\n",
       "      <td>0.0</td>\n",
       "      <td>3.75</td>\n",
       "      <td>3</td>\n",
       "      <td>GB</td>\n",
       "      <td>Gelding</td>\n",
       "      <td>60</td>\n",
       "      <td>...</td>\n",
       "      <td>21.75</td>\n",
       "      <td>23.22</td>\n",
       "      <td>23.50</td>\n",
       "      <td>NaN</td>\n",
       "      <td>NaN</td>\n",
       "      <td>83.24</td>\n",
       "      <td>50.0</td>\n",
       "      <td>14.0</td>\n",
       "      <td>9</td>\n",
       "      <td>154</td>\n",
       "    </tr>\n",
       "  </tbody>\n",
       "</table>\n",
       "<p>5 rows × 37 columns</p>\n",
       "</div>"
      ],
      "text/plain": [
       "   race_id  horse_no  horse_id  result  won  lengths_behind  horse_age  \\\n",
       "0        0         1      3917      10  0.0            8.00          3   \n",
       "1        0         2      2157       8  0.0            5.75          3   \n",
       "2        0         3       858       7  0.0            4.75          3   \n",
       "3        0         4      1853       9  0.0            6.25          3   \n",
       "4        0         5      2796       6  0.0            3.75          3   \n",
       "\n",
       "  horse_country horse_type  horse_rating  ...  time2  time3  time4  time5  \\\n",
       "0           AUS    Gelding            60  ...  21.59  23.86  24.62    NaN   \n",
       "1            NZ    Gelding            60  ...  21.99  23.30  23.70    NaN   \n",
       "2            NZ    Gelding            60  ...  21.59  23.90  24.22    NaN   \n",
       "3           SAF    Gelding            60  ...  21.83  23.70  24.00    NaN   \n",
       "4            GB    Gelding            60  ...  21.75  23.22  23.50    NaN   \n",
       "\n",
       "   time6  finish_time  win_odds  place_odds  trainer_id  jockey_id  \n",
       "0    NaN        83.92       9.7         3.7         118          2  \n",
       "1    NaN        83.56      16.0         4.9         164         57  \n",
       "2    NaN        83.40       3.5         1.5         137         18  \n",
       "3    NaN        83.62      39.0        11.0          80         59  \n",
       "4    NaN        83.24      50.0        14.0           9        154  \n",
       "\n",
       "[5 rows x 37 columns]"
      ]
     },
     "execution_count": 3,
     "metadata": {},
     "output_type": "execute_result"
    }
   ],
   "source": [
    "runs = pd.read_csv(\"../input/hkracing/runs.csv\")\n",
    "runs.head()"
   ]
  },
  {
   "cell_type": "code",
   "execution_count": 4,
   "metadata": {
    "slideshow": {
     "slide_type": "fragment"
    }
   },
   "outputs": [
    {
     "data": {
      "text/html": [
       "<div>\n",
       "<style scoped>\n",
       "    .dataframe tbody tr th:only-of-type {\n",
       "        vertical-align: middle;\n",
       "    }\n",
       "\n",
       "    .dataframe tbody tr th {\n",
       "        vertical-align: top;\n",
       "    }\n",
       "\n",
       "    .dataframe thead th {\n",
       "        text-align: right;\n",
       "    }\n",
       "</style>\n",
       "<table border=\"1\" class=\"dataframe\">\n",
       "  <thead>\n",
       "    <tr style=\"text-align: right;\">\n",
       "      <th></th>\n",
       "      <th>race_id</th>\n",
       "      <th>date</th>\n",
       "      <th>venue</th>\n",
       "      <th>race_no</th>\n",
       "      <th>config</th>\n",
       "      <th>surface</th>\n",
       "      <th>distance</th>\n",
       "      <th>going</th>\n",
       "      <th>horse_ratings</th>\n",
       "      <th>prize</th>\n",
       "      <th>...</th>\n",
       "      <th>place_combination3</th>\n",
       "      <th>place_combination4</th>\n",
       "      <th>place_dividend1</th>\n",
       "      <th>place_dividend2</th>\n",
       "      <th>place_dividend3</th>\n",
       "      <th>place_dividend4</th>\n",
       "      <th>win_combination1</th>\n",
       "      <th>win_dividend1</th>\n",
       "      <th>win_combination2</th>\n",
       "      <th>win_dividend2</th>\n",
       "    </tr>\n",
       "  </thead>\n",
       "  <tbody>\n",
       "    <tr>\n",
       "      <td>0</td>\n",
       "      <td>0</td>\n",
       "      <td>1997-06-02</td>\n",
       "      <td>ST</td>\n",
       "      <td>1</td>\n",
       "      <td>A</td>\n",
       "      <td>0</td>\n",
       "      <td>1400</td>\n",
       "      <td>GOOD TO FIRM</td>\n",
       "      <td>40-15</td>\n",
       "      <td>485000.0</td>\n",
       "      <td>...</td>\n",
       "      <td>6.0</td>\n",
       "      <td>NaN</td>\n",
       "      <td>36.5</td>\n",
       "      <td>25.5</td>\n",
       "      <td>18.0</td>\n",
       "      <td>NaN</td>\n",
       "      <td>8</td>\n",
       "      <td>121.0</td>\n",
       "      <td>NaN</td>\n",
       "      <td>NaN</td>\n",
       "    </tr>\n",
       "    <tr>\n",
       "      <td>1</td>\n",
       "      <td>1</td>\n",
       "      <td>1997-06-02</td>\n",
       "      <td>ST</td>\n",
       "      <td>2</td>\n",
       "      <td>A</td>\n",
       "      <td>0</td>\n",
       "      <td>1200</td>\n",
       "      <td>GOOD TO FIRM</td>\n",
       "      <td>40-15</td>\n",
       "      <td>485000.0</td>\n",
       "      <td>...</td>\n",
       "      <td>4.0</td>\n",
       "      <td>NaN</td>\n",
       "      <td>12.5</td>\n",
       "      <td>47.0</td>\n",
       "      <td>33.5</td>\n",
       "      <td>NaN</td>\n",
       "      <td>5</td>\n",
       "      <td>23.5</td>\n",
       "      <td>NaN</td>\n",
       "      <td>NaN</td>\n",
       "    </tr>\n",
       "    <tr>\n",
       "      <td>2</td>\n",
       "      <td>2</td>\n",
       "      <td>1997-06-02</td>\n",
       "      <td>ST</td>\n",
       "      <td>3</td>\n",
       "      <td>A</td>\n",
       "      <td>0</td>\n",
       "      <td>1400</td>\n",
       "      <td>GOOD TO FIRM</td>\n",
       "      <td>60-40</td>\n",
       "      <td>625000.0</td>\n",
       "      <td>...</td>\n",
       "      <td>13.0</td>\n",
       "      <td>NaN</td>\n",
       "      <td>23.0</td>\n",
       "      <td>23.0</td>\n",
       "      <td>59.5</td>\n",
       "      <td>NaN</td>\n",
       "      <td>11</td>\n",
       "      <td>70.0</td>\n",
       "      <td>NaN</td>\n",
       "      <td>NaN</td>\n",
       "    </tr>\n",
       "    <tr>\n",
       "      <td>3</td>\n",
       "      <td>3</td>\n",
       "      <td>1997-06-02</td>\n",
       "      <td>ST</td>\n",
       "      <td>4</td>\n",
       "      <td>A</td>\n",
       "      <td>0</td>\n",
       "      <td>1200</td>\n",
       "      <td>GOOD TO FIRM</td>\n",
       "      <td>120-95</td>\n",
       "      <td>1750000.0</td>\n",
       "      <td>...</td>\n",
       "      <td>10.0</td>\n",
       "      <td>NaN</td>\n",
       "      <td>14.0</td>\n",
       "      <td>24.5</td>\n",
       "      <td>16.0</td>\n",
       "      <td>NaN</td>\n",
       "      <td>5</td>\n",
       "      <td>52.0</td>\n",
       "      <td>NaN</td>\n",
       "      <td>NaN</td>\n",
       "    </tr>\n",
       "    <tr>\n",
       "      <td>4</td>\n",
       "      <td>4</td>\n",
       "      <td>1997-06-02</td>\n",
       "      <td>ST</td>\n",
       "      <td>5</td>\n",
       "      <td>A</td>\n",
       "      <td>0</td>\n",
       "      <td>1600</td>\n",
       "      <td>GOOD TO FIRM</td>\n",
       "      <td>60-40</td>\n",
       "      <td>625000.0</td>\n",
       "      <td>...</td>\n",
       "      <td>1.0</td>\n",
       "      <td>NaN</td>\n",
       "      <td>15.5</td>\n",
       "      <td>28.0</td>\n",
       "      <td>17.5</td>\n",
       "      <td>NaN</td>\n",
       "      <td>2</td>\n",
       "      <td>36.5</td>\n",
       "      <td>NaN</td>\n",
       "      <td>NaN</td>\n",
       "    </tr>\n",
       "  </tbody>\n",
       "</table>\n",
       "<p>5 rows × 37 columns</p>\n",
       "</div>"
      ],
      "text/plain": [
       "   race_id        date venue  race_no config  surface  distance         going  \\\n",
       "0        0  1997-06-02    ST        1      A        0      1400  GOOD TO FIRM   \n",
       "1        1  1997-06-02    ST        2      A        0      1200  GOOD TO FIRM   \n",
       "2        2  1997-06-02    ST        3      A        0      1400  GOOD TO FIRM   \n",
       "3        3  1997-06-02    ST        4      A        0      1200  GOOD TO FIRM   \n",
       "4        4  1997-06-02    ST        5      A        0      1600  GOOD TO FIRM   \n",
       "\n",
       "  horse_ratings      prize  ...  place_combination3  place_combination4  \\\n",
       "0         40-15   485000.0  ...                 6.0                 NaN   \n",
       "1         40-15   485000.0  ...                 4.0                 NaN   \n",
       "2         60-40   625000.0  ...                13.0                 NaN   \n",
       "3        120-95  1750000.0  ...                10.0                 NaN   \n",
       "4         60-40   625000.0  ...                 1.0                 NaN   \n",
       "\n",
       "   place_dividend1  place_dividend2  place_dividend3  place_dividend4  \\\n",
       "0             36.5             25.5             18.0              NaN   \n",
       "1             12.5             47.0             33.5              NaN   \n",
       "2             23.0             23.0             59.5              NaN   \n",
       "3             14.0             24.5             16.0              NaN   \n",
       "4             15.5             28.0             17.5              NaN   \n",
       "\n",
       "   win_combination1  win_dividend1  win_combination2  win_dividend2  \n",
       "0                 8          121.0               NaN            NaN  \n",
       "1                 5           23.5               NaN            NaN  \n",
       "2                11           70.0               NaN            NaN  \n",
       "3                 5           52.0               NaN            NaN  \n",
       "4                 2           36.5               NaN            NaN  \n",
       "\n",
       "[5 rows x 37 columns]"
      ]
     },
     "execution_count": 4,
     "metadata": {},
     "output_type": "execute_result"
    }
   ],
   "source": [
    "races = pd.read_csv('../input/hkracing/races.csv')\n",
    "races.head()"
   ]
  },
  {
   "cell_type": "markdown",
   "metadata": {
    "slideshow": {
     "slide_type": "subslide"
    }
   },
   "source": [
    "## Select features for modeling"
   ]
  },
  {
   "cell_type": "code",
   "execution_count": 5,
   "metadata": {
    "slideshow": {
     "slide_type": "fragment"
    }
   },
   "outputs": [
    {
     "data": {
      "text/html": [
       "<div>\n",
       "<style scoped>\n",
       "    .dataframe tbody tr th:only-of-type {\n",
       "        vertical-align: middle;\n",
       "    }\n",
       "\n",
       "    .dataframe tbody tr th {\n",
       "        vertical-align: top;\n",
       "    }\n",
       "\n",
       "    .dataframe thead th {\n",
       "        text-align: right;\n",
       "    }\n",
       "</style>\n",
       "<table border=\"1\" class=\"dataframe\">\n",
       "  <thead>\n",
       "    <tr style=\"text-align: right;\">\n",
       "      <th></th>\n",
       "      <th>race_id</th>\n",
       "      <th>won</th>\n",
       "      <th>horse_age</th>\n",
       "      <th>horse_country</th>\n",
       "      <th>horse_type</th>\n",
       "      <th>horse_rating</th>\n",
       "      <th>horse_gear</th>\n",
       "      <th>declared_weight</th>\n",
       "      <th>actual_weight</th>\n",
       "      <th>draw</th>\n",
       "      <th>win_odds</th>\n",
       "      <th>place_odds</th>\n",
       "      <th>horse_id</th>\n",
       "    </tr>\n",
       "  </thead>\n",
       "  <tbody>\n",
       "    <tr>\n",
       "      <td>0</td>\n",
       "      <td>0</td>\n",
       "      <td>0.0</td>\n",
       "      <td>3</td>\n",
       "      <td>AUS</td>\n",
       "      <td>Gelding</td>\n",
       "      <td>60</td>\n",
       "      <td>--</td>\n",
       "      <td>1020.0</td>\n",
       "      <td>133</td>\n",
       "      <td>7</td>\n",
       "      <td>9.7</td>\n",
       "      <td>3.7</td>\n",
       "      <td>3917</td>\n",
       "    </tr>\n",
       "    <tr>\n",
       "      <td>1</td>\n",
       "      <td>0</td>\n",
       "      <td>0.0</td>\n",
       "      <td>3</td>\n",
       "      <td>NZ</td>\n",
       "      <td>Gelding</td>\n",
       "      <td>60</td>\n",
       "      <td>--</td>\n",
       "      <td>980.0</td>\n",
       "      <td>133</td>\n",
       "      <td>12</td>\n",
       "      <td>16.0</td>\n",
       "      <td>4.9</td>\n",
       "      <td>2157</td>\n",
       "    </tr>\n",
       "    <tr>\n",
       "      <td>2</td>\n",
       "      <td>0</td>\n",
       "      <td>0.0</td>\n",
       "      <td>3</td>\n",
       "      <td>NZ</td>\n",
       "      <td>Gelding</td>\n",
       "      <td>60</td>\n",
       "      <td>--</td>\n",
       "      <td>1082.0</td>\n",
       "      <td>132</td>\n",
       "      <td>8</td>\n",
       "      <td>3.5</td>\n",
       "      <td>1.5</td>\n",
       "      <td>858</td>\n",
       "    </tr>\n",
       "    <tr>\n",
       "      <td>3</td>\n",
       "      <td>0</td>\n",
       "      <td>0.0</td>\n",
       "      <td>3</td>\n",
       "      <td>SAF</td>\n",
       "      <td>Gelding</td>\n",
       "      <td>60</td>\n",
       "      <td>--</td>\n",
       "      <td>1118.0</td>\n",
       "      <td>127</td>\n",
       "      <td>13</td>\n",
       "      <td>39.0</td>\n",
       "      <td>11.0</td>\n",
       "      <td>1853</td>\n",
       "    </tr>\n",
       "    <tr>\n",
       "      <td>4</td>\n",
       "      <td>0</td>\n",
       "      <td>0.0</td>\n",
       "      <td>3</td>\n",
       "      <td>GB</td>\n",
       "      <td>Gelding</td>\n",
       "      <td>60</td>\n",
       "      <td>--</td>\n",
       "      <td>972.0</td>\n",
       "      <td>131</td>\n",
       "      <td>14</td>\n",
       "      <td>50.0</td>\n",
       "      <td>14.0</td>\n",
       "      <td>2796</td>\n",
       "    </tr>\n",
       "  </tbody>\n",
       "</table>\n",
       "</div>"
      ],
      "text/plain": [
       "   race_id  won  horse_age horse_country horse_type  horse_rating horse_gear  \\\n",
       "0        0  0.0          3           AUS    Gelding            60         --   \n",
       "1        0  0.0          3            NZ    Gelding            60         --   \n",
       "2        0  0.0          3            NZ    Gelding            60         --   \n",
       "3        0  0.0          3           SAF    Gelding            60         --   \n",
       "4        0  0.0          3            GB    Gelding            60         --   \n",
       "\n",
       "   declared_weight  actual_weight  draw  win_odds  place_odds  horse_id  \n",
       "0           1020.0            133     7       9.7         3.7      3917  \n",
       "1            980.0            133    12      16.0         4.9      2157  \n",
       "2           1082.0            132     8       3.5         1.5       858  \n",
       "3           1118.0            127    13      39.0        11.0      1853  \n",
       "4            972.0            131    14      50.0        14.0      2796  "
      ]
     },
     "execution_count": 5,
     "metadata": {},
     "output_type": "execute_result"
    }
   ],
   "source": [
    "runs_data = runs[['race_id', 'won', 'horse_age', 'horse_country', 'horse_type', 'horse_rating',\n",
    "       'horse_gear', 'declared_weight', 'actual_weight', 'draw', 'win_odds',\n",
    "       'place_odds', 'horse_id']]\n",
    "runs_data.head()"
   ]
  },
  {
   "cell_type": "code",
   "execution_count": 6,
   "metadata": {
    "slideshow": {
     "slide_type": "fragment"
    }
   },
   "outputs": [
    {
     "data": {
      "text/html": [
       "<div>\n",
       "<style scoped>\n",
       "    .dataframe tbody tr th:only-of-type {\n",
       "        vertical-align: middle;\n",
       "    }\n",
       "\n",
       "    .dataframe tbody tr th {\n",
       "        vertical-align: top;\n",
       "    }\n",
       "\n",
       "    .dataframe thead th {\n",
       "        text-align: right;\n",
       "    }\n",
       "</style>\n",
       "<table border=\"1\" class=\"dataframe\">\n",
       "  <thead>\n",
       "    <tr style=\"text-align: right;\">\n",
       "      <th></th>\n",
       "      <th>race_id</th>\n",
       "      <th>venue</th>\n",
       "      <th>config</th>\n",
       "      <th>surface</th>\n",
       "      <th>distance</th>\n",
       "      <th>going</th>\n",
       "      <th>race_class</th>\n",
       "      <th>date</th>\n",
       "    </tr>\n",
       "  </thead>\n",
       "  <tbody>\n",
       "    <tr>\n",
       "      <td>0</td>\n",
       "      <td>0</td>\n",
       "      <td>ST</td>\n",
       "      <td>A</td>\n",
       "      <td>0</td>\n",
       "      <td>1400</td>\n",
       "      <td>GOOD TO FIRM</td>\n",
       "      <td>5</td>\n",
       "      <td>1997-06-02</td>\n",
       "    </tr>\n",
       "    <tr>\n",
       "      <td>1</td>\n",
       "      <td>1</td>\n",
       "      <td>ST</td>\n",
       "      <td>A</td>\n",
       "      <td>0</td>\n",
       "      <td>1200</td>\n",
       "      <td>GOOD TO FIRM</td>\n",
       "      <td>5</td>\n",
       "      <td>1997-06-02</td>\n",
       "    </tr>\n",
       "    <tr>\n",
       "      <td>2</td>\n",
       "      <td>2</td>\n",
       "      <td>ST</td>\n",
       "      <td>A</td>\n",
       "      <td>0</td>\n",
       "      <td>1400</td>\n",
       "      <td>GOOD TO FIRM</td>\n",
       "      <td>4</td>\n",
       "      <td>1997-06-02</td>\n",
       "    </tr>\n",
       "    <tr>\n",
       "      <td>3</td>\n",
       "      <td>3</td>\n",
       "      <td>ST</td>\n",
       "      <td>A</td>\n",
       "      <td>0</td>\n",
       "      <td>1200</td>\n",
       "      <td>GOOD TO FIRM</td>\n",
       "      <td>1</td>\n",
       "      <td>1997-06-02</td>\n",
       "    </tr>\n",
       "    <tr>\n",
       "      <td>4</td>\n",
       "      <td>4</td>\n",
       "      <td>ST</td>\n",
       "      <td>A</td>\n",
       "      <td>0</td>\n",
       "      <td>1600</td>\n",
       "      <td>GOOD TO FIRM</td>\n",
       "      <td>4</td>\n",
       "      <td>1997-06-02</td>\n",
       "    </tr>\n",
       "  </tbody>\n",
       "</table>\n",
       "</div>"
      ],
      "text/plain": [
       "   race_id venue config  surface  distance         going  race_class  \\\n",
       "0        0    ST      A        0      1400  GOOD TO FIRM           5   \n",
       "1        1    ST      A        0      1200  GOOD TO FIRM           5   \n",
       "2        2    ST      A        0      1400  GOOD TO FIRM           4   \n",
       "3        3    ST      A        0      1200  GOOD TO FIRM           1   \n",
       "4        4    ST      A        0      1600  GOOD TO FIRM           4   \n",
       "\n",
       "         date  \n",
       "0  1997-06-02  \n",
       "1  1997-06-02  \n",
       "2  1997-06-02  \n",
       "3  1997-06-02  \n",
       "4  1997-06-02  "
      ]
     },
     "execution_count": 6,
     "metadata": {},
     "output_type": "execute_result"
    }
   ],
   "source": [
    "races_data = races[['race_id', 'venue', 'config', 'surface', 'distance', 'going', 'race_class', 'date']]\n",
    "races_data.head()"
   ]
  },
  {
   "cell_type": "code",
   "execution_count": 7,
   "metadata": {
    "slideshow": {
     "slide_type": "subslide"
    }
   },
   "outputs": [
    {
     "data": {
      "text/html": [
       "<div>\n",
       "<style scoped>\n",
       "    .dataframe tbody tr th:only-of-type {\n",
       "        vertical-align: middle;\n",
       "    }\n",
       "\n",
       "    .dataframe tbody tr th {\n",
       "        vertical-align: top;\n",
       "    }\n",
       "\n",
       "    .dataframe thead th {\n",
       "        text-align: right;\n",
       "    }\n",
       "</style>\n",
       "<table border=\"1\" class=\"dataframe\">\n",
       "  <thead>\n",
       "    <tr style=\"text-align: right;\">\n",
       "      <th></th>\n",
       "      <th>race_id</th>\n",
       "      <th>won</th>\n",
       "      <th>horse_age</th>\n",
       "      <th>horse_country</th>\n",
       "      <th>horse_type</th>\n",
       "      <th>horse_rating</th>\n",
       "      <th>horse_gear</th>\n",
       "      <th>declared_weight</th>\n",
       "      <th>actual_weight</th>\n",
       "      <th>draw</th>\n",
       "      <th>win_odds</th>\n",
       "      <th>place_odds</th>\n",
       "      <th>horse_id</th>\n",
       "      <th>venue</th>\n",
       "      <th>config</th>\n",
       "      <th>surface</th>\n",
       "      <th>distance</th>\n",
       "      <th>going</th>\n",
       "      <th>race_class</th>\n",
       "      <th>date</th>\n",
       "    </tr>\n",
       "  </thead>\n",
       "  <tbody>\n",
       "    <tr>\n",
       "      <td>0</td>\n",
       "      <td>0</td>\n",
       "      <td>0.0</td>\n",
       "      <td>3</td>\n",
       "      <td>AUS</td>\n",
       "      <td>Gelding</td>\n",
       "      <td>60</td>\n",
       "      <td>--</td>\n",
       "      <td>1020.0</td>\n",
       "      <td>133</td>\n",
       "      <td>7</td>\n",
       "      <td>9.7</td>\n",
       "      <td>3.7</td>\n",
       "      <td>3917</td>\n",
       "      <td>ST</td>\n",
       "      <td>A</td>\n",
       "      <td>0</td>\n",
       "      <td>1400</td>\n",
       "      <td>GOOD TO FIRM</td>\n",
       "      <td>5</td>\n",
       "      <td>1997-06-02</td>\n",
       "    </tr>\n",
       "    <tr>\n",
       "      <td>1</td>\n",
       "      <td>0</td>\n",
       "      <td>0.0</td>\n",
       "      <td>3</td>\n",
       "      <td>NZ</td>\n",
       "      <td>Gelding</td>\n",
       "      <td>60</td>\n",
       "      <td>--</td>\n",
       "      <td>980.0</td>\n",
       "      <td>133</td>\n",
       "      <td>12</td>\n",
       "      <td>16.0</td>\n",
       "      <td>4.9</td>\n",
       "      <td>2157</td>\n",
       "      <td>ST</td>\n",
       "      <td>A</td>\n",
       "      <td>0</td>\n",
       "      <td>1400</td>\n",
       "      <td>GOOD TO FIRM</td>\n",
       "      <td>5</td>\n",
       "      <td>1997-06-02</td>\n",
       "    </tr>\n",
       "    <tr>\n",
       "      <td>2</td>\n",
       "      <td>0</td>\n",
       "      <td>0.0</td>\n",
       "      <td>3</td>\n",
       "      <td>NZ</td>\n",
       "      <td>Gelding</td>\n",
       "      <td>60</td>\n",
       "      <td>--</td>\n",
       "      <td>1082.0</td>\n",
       "      <td>132</td>\n",
       "      <td>8</td>\n",
       "      <td>3.5</td>\n",
       "      <td>1.5</td>\n",
       "      <td>858</td>\n",
       "      <td>ST</td>\n",
       "      <td>A</td>\n",
       "      <td>0</td>\n",
       "      <td>1400</td>\n",
       "      <td>GOOD TO FIRM</td>\n",
       "      <td>5</td>\n",
       "      <td>1997-06-02</td>\n",
       "    </tr>\n",
       "    <tr>\n",
       "      <td>3</td>\n",
       "      <td>0</td>\n",
       "      <td>0.0</td>\n",
       "      <td>3</td>\n",
       "      <td>SAF</td>\n",
       "      <td>Gelding</td>\n",
       "      <td>60</td>\n",
       "      <td>--</td>\n",
       "      <td>1118.0</td>\n",
       "      <td>127</td>\n",
       "      <td>13</td>\n",
       "      <td>39.0</td>\n",
       "      <td>11.0</td>\n",
       "      <td>1853</td>\n",
       "      <td>ST</td>\n",
       "      <td>A</td>\n",
       "      <td>0</td>\n",
       "      <td>1400</td>\n",
       "      <td>GOOD TO FIRM</td>\n",
       "      <td>5</td>\n",
       "      <td>1997-06-02</td>\n",
       "    </tr>\n",
       "    <tr>\n",
       "      <td>4</td>\n",
       "      <td>0</td>\n",
       "      <td>0.0</td>\n",
       "      <td>3</td>\n",
       "      <td>GB</td>\n",
       "      <td>Gelding</td>\n",
       "      <td>60</td>\n",
       "      <td>--</td>\n",
       "      <td>972.0</td>\n",
       "      <td>131</td>\n",
       "      <td>14</td>\n",
       "      <td>50.0</td>\n",
       "      <td>14.0</td>\n",
       "      <td>2796</td>\n",
       "      <td>ST</td>\n",
       "      <td>A</td>\n",
       "      <td>0</td>\n",
       "      <td>1400</td>\n",
       "      <td>GOOD TO FIRM</td>\n",
       "      <td>5</td>\n",
       "      <td>1997-06-02</td>\n",
       "    </tr>\n",
       "  </tbody>\n",
       "</table>\n",
       "</div>"
      ],
      "text/plain": [
       "   race_id  won  horse_age horse_country horse_type  horse_rating horse_gear  \\\n",
       "0        0  0.0          3           AUS    Gelding            60         --   \n",
       "1        0  0.0          3            NZ    Gelding            60         --   \n",
       "2        0  0.0          3            NZ    Gelding            60         --   \n",
       "3        0  0.0          3           SAF    Gelding            60         --   \n",
       "4        0  0.0          3            GB    Gelding            60         --   \n",
       "\n",
       "   declared_weight  actual_weight  draw  win_odds  place_odds  horse_id venue  \\\n",
       "0           1020.0            133     7       9.7         3.7      3917    ST   \n",
       "1            980.0            133    12      16.0         4.9      2157    ST   \n",
       "2           1082.0            132     8       3.5         1.5       858    ST   \n",
       "3           1118.0            127    13      39.0        11.0      1853    ST   \n",
       "4            972.0            131    14      50.0        14.0      2796    ST   \n",
       "\n",
       "  config  surface  distance         going  race_class        date  \n",
       "0      A        0      1400  GOOD TO FIRM           5  1997-06-02  \n",
       "1      A        0      1400  GOOD TO FIRM           5  1997-06-02  \n",
       "2      A        0      1400  GOOD TO FIRM           5  1997-06-02  \n",
       "3      A        0      1400  GOOD TO FIRM           5  1997-06-02  \n",
       "4      A        0      1400  GOOD TO FIRM           5  1997-06-02  "
      ]
     },
     "execution_count": 7,
     "metadata": {},
     "output_type": "execute_result"
    }
   ],
   "source": [
    "# merge the two datasets based on race_id column\n",
    "df = pd.merge(runs_data, races_data)\n",
    "df.head()"
   ]
  },
  {
   "cell_type": "markdown",
   "metadata": {
    "slideshow": {
     "slide_type": "subslide"
    }
   },
   "source": [
    "## Check missing values"
   ]
  },
  {
   "cell_type": "code",
   "execution_count": 8,
   "metadata": {
    "slideshow": {
     "slide_type": "fragment"
    }
   },
   "outputs": [
    {
     "data": {
      "text/plain": [
       "race_id            False\n",
       "won                False\n",
       "horse_age          False\n",
       "horse_country       True\n",
       "horse_type          True\n",
       "horse_rating       False\n",
       "horse_gear         False\n",
       "declared_weight    False\n",
       "actual_weight      False\n",
       "draw               False\n",
       "win_odds           False\n",
       "place_odds          True\n",
       "horse_id           False\n",
       "venue              False\n",
       "config             False\n",
       "surface            False\n",
       "distance           False\n",
       "going              False\n",
       "race_class         False\n",
       "date               False\n",
       "dtype: bool"
      ]
     },
     "execution_count": 8,
     "metadata": {},
     "output_type": "execute_result"
    }
   ],
   "source": [
    "df.isnull().any()"
   ]
  },
  {
   "cell_type": "code",
   "execution_count": 9,
   "metadata": {
    "slideshow": {
     "slide_type": "subslide"
    }
   },
   "outputs": [
    {
     "data": {
      "text/plain": [
       "True         2\n",
       "False    79445\n",
       "Name: horse_country, dtype: int64"
      ]
     },
     "execution_count": 9,
     "metadata": {},
     "output_type": "execute_result"
    }
   ],
   "source": [
    "df.horse_country.isnull().value_counts(ascending=True)"
   ]
  },
  {
   "cell_type": "code",
   "execution_count": 10,
   "metadata": {
    "slideshow": {
     "slide_type": "fragment"
    }
   },
   "outputs": [
    {
     "data": {
      "text/plain": [
       "True         2\n",
       "False    79445\n",
       "Name: horse_type, dtype: int64"
      ]
     },
     "execution_count": 10,
     "metadata": {},
     "output_type": "execute_result"
    }
   ],
   "source": [
    "df.horse_type.isnull().value_counts(ascending=True)"
   ]
  },
  {
   "cell_type": "code",
   "execution_count": 11,
   "metadata": {
    "slideshow": {
     "slide_type": "fragment"
    }
   },
   "outputs": [
    {
     "data": {
      "text/plain": [
       "True      3735\n",
       "False    75712\n",
       "Name: place_odds, dtype: int64"
      ]
     },
     "execution_count": 11,
     "metadata": {},
     "output_type": "execute_result"
    }
   ],
   "source": [
    "df.place_odds.isnull().value_counts(ascending=True)"
   ]
  },
  {
   "cell_type": "markdown",
   "metadata": {
    "slideshow": {
     "slide_type": "fragment"
    }
   },
   "source": [
    "The amount of rows for missing values is relatively small, therefore we decided to drop these rows. "
   ]
  },
  {
   "cell_type": "code",
   "execution_count": 12,
   "metadata": {
    "slideshow": {
     "slide_type": "subslide"
    }
   },
   "outputs": [
    {
     "data": {
      "text/plain": [
       "(79447, 20)"
      ]
     },
     "execution_count": 12,
     "metadata": {},
     "output_type": "execute_result"
    }
   ],
   "source": [
    "df.shape"
   ]
  },
  {
   "cell_type": "code",
   "execution_count": 13,
   "metadata": {
    "slideshow": {
     "slide_type": "fragment"
    }
   },
   "outputs": [
    {
     "data": {
      "text/plain": [
       "(75710, 20)"
      ]
     },
     "execution_count": 13,
     "metadata": {},
     "output_type": "execute_result"
    }
   ],
   "source": [
    "df = df.dropna()\n",
    "df.shape"
   ]
  },
  {
   "cell_type": "markdown",
   "metadata": {
    "slideshow": {
     "slide_type": "subslide"
    }
   },
   "source": [
    "## Basic information of the data"
   ]
  },
  {
   "cell_type": "code",
   "execution_count": 14,
   "metadata": {
    "slideshow": {
     "slide_type": "fragment"
    }
   },
   "outputs": [
    {
     "data": {
      "text/plain": [
       "dtype('<M8[ns]')"
      ]
     },
     "execution_count": 14,
     "metadata": {},
     "output_type": "execute_result"
    }
   ],
   "source": [
    "df.date = pd.to_datetime(df.date)\n",
    "df.date.dtype"
   ]
  },
  {
   "cell_type": "code",
   "execution_count": 15,
   "metadata": {
    "slideshow": {
     "slide_type": "fragment"
    }
   },
   "outputs": [
    {
     "data": {
      "text/plain": [
       "(Timestamp('1997-06-02 00:00:00'), Timestamp('2005-06-05 00:00:00'))"
      ]
     },
     "execution_count": 15,
     "metadata": {},
     "output_type": "execute_result"
    }
   ],
   "source": [
    "min(df.date), max(df.date)\n",
    "# 8-year duration"
   ]
  },
  {
   "cell_type": "code",
   "execution_count": 16,
   "metadata": {
    "slideshow": {
     "slide_type": "fragment"
    }
   },
   "outputs": [
    {
     "name": "stdout",
     "output_type": "stream",
     "text": [
      "The dataset was collected from 02 June 1997 to 05 June 2005, which contains information about 4280 horses and 6047 races. \n"
     ]
    }
   ],
   "source": [
    "start_time = min(df.date).strftime('%d %B %Y')\n",
    "end_time = max(df.date).strftime('%d %B %Y')\n",
    "no_of_horses = df.horse_id.nunique()\n",
    "no_of_races = df.race_id.nunique()\n",
    "\n",
    "print(f'The dataset was collected from {start_time} to {end_time}, which contains information about {no_of_horses} horses and {no_of_races} races. ')"
   ]
  },
  {
   "cell_type": "code",
   "execution_count": 17,
   "metadata": {
    "slideshow": {
     "slide_type": "skip"
    }
   },
   "outputs": [
    {
     "data": {
      "text/html": [
       "<div>\n",
       "<style scoped>\n",
       "    .dataframe tbody tr th:only-of-type {\n",
       "        vertical-align: middle;\n",
       "    }\n",
       "\n",
       "    .dataframe tbody tr th {\n",
       "        vertical-align: top;\n",
       "    }\n",
       "\n",
       "    .dataframe thead th {\n",
       "        text-align: right;\n",
       "    }\n",
       "</style>\n",
       "<table border=\"1\" class=\"dataframe\">\n",
       "  <thead>\n",
       "    <tr style=\"text-align: right;\">\n",
       "      <th></th>\n",
       "      <th>race_id</th>\n",
       "      <th>won</th>\n",
       "      <th>horse_age</th>\n",
       "      <th>horse_country</th>\n",
       "      <th>horse_type</th>\n",
       "      <th>horse_rating</th>\n",
       "      <th>horse_gear</th>\n",
       "      <th>declared_weight</th>\n",
       "      <th>actual_weight</th>\n",
       "      <th>draw</th>\n",
       "      <th>win_odds</th>\n",
       "      <th>place_odds</th>\n",
       "      <th>venue</th>\n",
       "      <th>config</th>\n",
       "      <th>surface</th>\n",
       "      <th>distance</th>\n",
       "      <th>going</th>\n",
       "      <th>race_class</th>\n",
       "    </tr>\n",
       "  </thead>\n",
       "  <tbody>\n",
       "    <tr>\n",
       "      <td>0</td>\n",
       "      <td>0</td>\n",
       "      <td>0.0</td>\n",
       "      <td>3</td>\n",
       "      <td>AUS</td>\n",
       "      <td>Gelding</td>\n",
       "      <td>60</td>\n",
       "      <td>--</td>\n",
       "      <td>1020.0</td>\n",
       "      <td>133</td>\n",
       "      <td>7</td>\n",
       "      <td>9.7</td>\n",
       "      <td>3.7</td>\n",
       "      <td>ST</td>\n",
       "      <td>A</td>\n",
       "      <td>0</td>\n",
       "      <td>1400</td>\n",
       "      <td>GOOD TO FIRM</td>\n",
       "      <td>5</td>\n",
       "    </tr>\n",
       "    <tr>\n",
       "      <td>1</td>\n",
       "      <td>0</td>\n",
       "      <td>0.0</td>\n",
       "      <td>3</td>\n",
       "      <td>NZ</td>\n",
       "      <td>Gelding</td>\n",
       "      <td>60</td>\n",
       "      <td>--</td>\n",
       "      <td>980.0</td>\n",
       "      <td>133</td>\n",
       "      <td>12</td>\n",
       "      <td>16.0</td>\n",
       "      <td>4.9</td>\n",
       "      <td>ST</td>\n",
       "      <td>A</td>\n",
       "      <td>0</td>\n",
       "      <td>1400</td>\n",
       "      <td>GOOD TO FIRM</td>\n",
       "      <td>5</td>\n",
       "    </tr>\n",
       "    <tr>\n",
       "      <td>2</td>\n",
       "      <td>0</td>\n",
       "      <td>0.0</td>\n",
       "      <td>3</td>\n",
       "      <td>NZ</td>\n",
       "      <td>Gelding</td>\n",
       "      <td>60</td>\n",
       "      <td>--</td>\n",
       "      <td>1082.0</td>\n",
       "      <td>132</td>\n",
       "      <td>8</td>\n",
       "      <td>3.5</td>\n",
       "      <td>1.5</td>\n",
       "      <td>ST</td>\n",
       "      <td>A</td>\n",
       "      <td>0</td>\n",
       "      <td>1400</td>\n",
       "      <td>GOOD TO FIRM</td>\n",
       "      <td>5</td>\n",
       "    </tr>\n",
       "    <tr>\n",
       "      <td>3</td>\n",
       "      <td>0</td>\n",
       "      <td>0.0</td>\n",
       "      <td>3</td>\n",
       "      <td>SAF</td>\n",
       "      <td>Gelding</td>\n",
       "      <td>60</td>\n",
       "      <td>--</td>\n",
       "      <td>1118.0</td>\n",
       "      <td>127</td>\n",
       "      <td>13</td>\n",
       "      <td>39.0</td>\n",
       "      <td>11.0</td>\n",
       "      <td>ST</td>\n",
       "      <td>A</td>\n",
       "      <td>0</td>\n",
       "      <td>1400</td>\n",
       "      <td>GOOD TO FIRM</td>\n",
       "      <td>5</td>\n",
       "    </tr>\n",
       "    <tr>\n",
       "      <td>4</td>\n",
       "      <td>0</td>\n",
       "      <td>0.0</td>\n",
       "      <td>3</td>\n",
       "      <td>GB</td>\n",
       "      <td>Gelding</td>\n",
       "      <td>60</td>\n",
       "      <td>--</td>\n",
       "      <td>972.0</td>\n",
       "      <td>131</td>\n",
       "      <td>14</td>\n",
       "      <td>50.0</td>\n",
       "      <td>14.0</td>\n",
       "      <td>ST</td>\n",
       "      <td>A</td>\n",
       "      <td>0</td>\n",
       "      <td>1400</td>\n",
       "      <td>GOOD TO FIRM</td>\n",
       "      <td>5</td>\n",
       "    </tr>\n",
       "  </tbody>\n",
       "</table>\n",
       "</div>"
      ],
      "text/plain": [
       "   race_id  won  horse_age horse_country horse_type  horse_rating horse_gear  \\\n",
       "0        0  0.0          3           AUS    Gelding            60         --   \n",
       "1        0  0.0          3            NZ    Gelding            60         --   \n",
       "2        0  0.0          3            NZ    Gelding            60         --   \n",
       "3        0  0.0          3           SAF    Gelding            60         --   \n",
       "4        0  0.0          3            GB    Gelding            60         --   \n",
       "\n",
       "   declared_weight  actual_weight  draw  win_odds  place_odds venue config  \\\n",
       "0           1020.0            133     7       9.7         3.7    ST      A   \n",
       "1            980.0            133    12      16.0         4.9    ST      A   \n",
       "2           1082.0            132     8       3.5         1.5    ST      A   \n",
       "3           1118.0            127    13      39.0        11.0    ST      A   \n",
       "4            972.0            131    14      50.0        14.0    ST      A   \n",
       "\n",
       "   surface  distance         going  race_class  \n",
       "0        0      1400  GOOD TO FIRM           5  \n",
       "1        0      1400  GOOD TO FIRM           5  \n",
       "2        0      1400  GOOD TO FIRM           5  \n",
       "3        0      1400  GOOD TO FIRM           5  \n",
       "4        0      1400  GOOD TO FIRM           5  "
      ]
     },
     "execution_count": 17,
     "metadata": {},
     "output_type": "execute_result"
    }
   ],
   "source": [
    "# drop the unnecessary columns\n",
    "df = df.drop(columns=['horse_id', 'date'])\n",
    "df.head()"
   ]
  },
  {
   "cell_type": "code",
   "execution_count": 18,
   "metadata": {
    "slideshow": {
     "slide_type": "skip"
    }
   },
   "outputs": [
    {
     "data": {
      "text/plain": [
       "Index(['race_id', 'won', 'horse_age', 'horse_country', 'horse_type',\n",
       "       'horse_rating', 'horse_gear', 'declared_weight', 'actual_weight',\n",
       "       'draw', 'win_odds', 'place_odds', 'venue', 'config', 'surface',\n",
       "       'distance', 'going', 'race_class'],\n",
       "      dtype='object')"
      ]
     },
     "execution_count": 18,
     "metadata": {},
     "output_type": "execute_result"
    }
   ],
   "source": [
    "df.columns"
   ]
  },
  {
   "cell_type": "markdown",
   "metadata": {
    "slideshow": {
     "slide_type": "subslide"
    }
   },
   "source": [
    "## Impute feature"
   ]
  },
  {
   "cell_type": "code",
   "execution_count": 19,
   "metadata": {
    "slideshow": {
     "slide_type": "fragment"
    }
   },
   "outputs": [
    {
     "data": {
      "text/plain": [
       "--             56518\n",
       "B               3098\n",
       "TT              2590\n",
       "TT/B            2350\n",
       "H               1192\n",
       "               ...  \n",
       "TT/H-/P-/B2        1\n",
       "TT1/V-/SR2         1\n",
       "H-/PC-             1\n",
       "CO-/H-/SR-         1\n",
       "CP-/H-/B2          1\n",
       "Name: horse_gear, Length: 760, dtype: int64"
      ]
     },
     "execution_count": 19,
     "metadata": {},
     "output_type": "execute_result"
    }
   ],
   "source": [
    "df.horse_gear.value_counts(ascending=False)"
   ]
  },
  {
   "cell_type": "code",
   "execution_count": 20,
   "metadata": {
    "slideshow": {
     "slide_type": "fragment"
    }
   },
   "outputs": [
    {
     "data": {
      "text/plain": [
       "760"
      ]
     },
     "execution_count": 20,
     "metadata": {},
     "output_type": "execute_result"
    }
   ],
   "source": [
    "df.horse_gear.nunique()"
   ]
  },
  {
   "cell_type": "markdown",
   "metadata": {
    "slideshow": {
     "slide_type": "fragment"
    }
   },
   "source": [
    "For horse_gear column, we dicided to impute the data into 1 and 0 (with gear and no gear), rather than one-hot labeling (which will lead to numerous features). "
   ]
  },
  {
   "cell_type": "code",
   "execution_count": 21,
   "metadata": {
    "slideshow": {
     "slide_type": "subslide"
    }
   },
   "outputs": [],
   "source": [
    "def horse_gear_impute(cols):\n",
    "    if cols == '--':\n",
    "        return 0\n",
    "    else: \n",
    "        return 1"
   ]
  },
  {
   "cell_type": "code",
   "execution_count": 22,
   "metadata": {
    "slideshow": {
     "slide_type": "fragment"
    }
   },
   "outputs": [],
   "source": [
    "df.horse_gear = df.horse_gear.apply(horse_gear_impute)"
   ]
  },
  {
   "cell_type": "code",
   "execution_count": 23,
   "metadata": {
    "slideshow": {
     "slide_type": "fragment"
    }
   },
   "outputs": [
    {
     "data": {
      "text/plain": [
       "0    56518\n",
       "1    19192\n",
       "Name: horse_gear, dtype: int64"
      ]
     },
     "execution_count": 23,
     "metadata": {},
     "output_type": "execute_result"
    }
   ],
   "source": [
    "df.horse_gear.value_counts()"
   ]
  },
  {
   "cell_type": "markdown",
   "metadata": {
    "slideshow": {
     "slide_type": "subslide"
    }
   },
   "source": [
    "## One-hot encoding for categorical features"
   ]
  },
  {
   "cell_type": "code",
   "execution_count": 24,
   "metadata": {
    "slideshow": {
     "slide_type": "fragment"
    }
   },
   "outputs": [
    {
     "data": {
      "text/html": [
       "<div>\n",
       "<style scoped>\n",
       "    .dataframe tbody tr th:only-of-type {\n",
       "        vertical-align: middle;\n",
       "    }\n",
       "\n",
       "    .dataframe tbody tr th {\n",
       "        vertical-align: top;\n",
       "    }\n",
       "\n",
       "    .dataframe thead th {\n",
       "        text-align: right;\n",
       "    }\n",
       "</style>\n",
       "<table border=\"1\" class=\"dataframe\">\n",
       "  <thead>\n",
       "    <tr style=\"text-align: right;\">\n",
       "      <th></th>\n",
       "      <th>race_id</th>\n",
       "      <th>won</th>\n",
       "      <th>horse_age</th>\n",
       "      <th>horse_rating</th>\n",
       "      <th>horse_gear</th>\n",
       "      <th>declared_weight</th>\n",
       "      <th>actual_weight</th>\n",
       "      <th>draw</th>\n",
       "      <th>win_odds</th>\n",
       "      <th>place_odds</th>\n",
       "      <th>...</th>\n",
       "      <th>config_C+3</th>\n",
       "      <th>going_GOOD</th>\n",
       "      <th>going_GOOD TO FIRM</th>\n",
       "      <th>going_GOOD TO YIELDING</th>\n",
       "      <th>going_SLOW</th>\n",
       "      <th>going_SOFT</th>\n",
       "      <th>going_WET FAST</th>\n",
       "      <th>going_WET SLOW</th>\n",
       "      <th>going_YIELDING</th>\n",
       "      <th>going_YIELDING TO SOFT</th>\n",
       "    </tr>\n",
       "  </thead>\n",
       "  <tbody>\n",
       "    <tr>\n",
       "      <td>0</td>\n",
       "      <td>0</td>\n",
       "      <td>0.0</td>\n",
       "      <td>3</td>\n",
       "      <td>60</td>\n",
       "      <td>0</td>\n",
       "      <td>1020.0</td>\n",
       "      <td>133</td>\n",
       "      <td>7</td>\n",
       "      <td>9.7</td>\n",
       "      <td>3.7</td>\n",
       "      <td>...</td>\n",
       "      <td>0</td>\n",
       "      <td>0</td>\n",
       "      <td>1</td>\n",
       "      <td>0</td>\n",
       "      <td>0</td>\n",
       "      <td>0</td>\n",
       "      <td>0</td>\n",
       "      <td>0</td>\n",
       "      <td>0</td>\n",
       "      <td>0</td>\n",
       "    </tr>\n",
       "    <tr>\n",
       "      <td>1</td>\n",
       "      <td>0</td>\n",
       "      <td>0.0</td>\n",
       "      <td>3</td>\n",
       "      <td>60</td>\n",
       "      <td>0</td>\n",
       "      <td>980.0</td>\n",
       "      <td>133</td>\n",
       "      <td>12</td>\n",
       "      <td>16.0</td>\n",
       "      <td>4.9</td>\n",
       "      <td>...</td>\n",
       "      <td>0</td>\n",
       "      <td>0</td>\n",
       "      <td>1</td>\n",
       "      <td>0</td>\n",
       "      <td>0</td>\n",
       "      <td>0</td>\n",
       "      <td>0</td>\n",
       "      <td>0</td>\n",
       "      <td>0</td>\n",
       "      <td>0</td>\n",
       "    </tr>\n",
       "    <tr>\n",
       "      <td>2</td>\n",
       "      <td>0</td>\n",
       "      <td>0.0</td>\n",
       "      <td>3</td>\n",
       "      <td>60</td>\n",
       "      <td>0</td>\n",
       "      <td>1082.0</td>\n",
       "      <td>132</td>\n",
       "      <td>8</td>\n",
       "      <td>3.5</td>\n",
       "      <td>1.5</td>\n",
       "      <td>...</td>\n",
       "      <td>0</td>\n",
       "      <td>0</td>\n",
       "      <td>1</td>\n",
       "      <td>0</td>\n",
       "      <td>0</td>\n",
       "      <td>0</td>\n",
       "      <td>0</td>\n",
       "      <td>0</td>\n",
       "      <td>0</td>\n",
       "      <td>0</td>\n",
       "    </tr>\n",
       "    <tr>\n",
       "      <td>3</td>\n",
       "      <td>0</td>\n",
       "      <td>0.0</td>\n",
       "      <td>3</td>\n",
       "      <td>60</td>\n",
       "      <td>0</td>\n",
       "      <td>1118.0</td>\n",
       "      <td>127</td>\n",
       "      <td>13</td>\n",
       "      <td>39.0</td>\n",
       "      <td>11.0</td>\n",
       "      <td>...</td>\n",
       "      <td>0</td>\n",
       "      <td>0</td>\n",
       "      <td>1</td>\n",
       "      <td>0</td>\n",
       "      <td>0</td>\n",
       "      <td>0</td>\n",
       "      <td>0</td>\n",
       "      <td>0</td>\n",
       "      <td>0</td>\n",
       "      <td>0</td>\n",
       "    </tr>\n",
       "    <tr>\n",
       "      <td>4</td>\n",
       "      <td>0</td>\n",
       "      <td>0.0</td>\n",
       "      <td>3</td>\n",
       "      <td>60</td>\n",
       "      <td>0</td>\n",
       "      <td>972.0</td>\n",
       "      <td>131</td>\n",
       "      <td>14</td>\n",
       "      <td>50.0</td>\n",
       "      <td>14.0</td>\n",
       "      <td>...</td>\n",
       "      <td>0</td>\n",
       "      <td>0</td>\n",
       "      <td>1</td>\n",
       "      <td>0</td>\n",
       "      <td>0</td>\n",
       "      <td>0</td>\n",
       "      <td>0</td>\n",
       "      <td>0</td>\n",
       "      <td>0</td>\n",
       "      <td>0</td>\n",
       "    </tr>\n",
       "  </tbody>\n",
       "</table>\n",
       "<p>5 rows × 50 columns</p>\n",
       "</div>"
      ],
      "text/plain": [
       "   race_id  won  horse_age  horse_rating  horse_gear  declared_weight  \\\n",
       "0        0  0.0          3            60           0           1020.0   \n",
       "1        0  0.0          3            60           0            980.0   \n",
       "2        0  0.0          3            60           0           1082.0   \n",
       "3        0  0.0          3            60           0           1118.0   \n",
       "4        0  0.0          3            60           0            972.0   \n",
       "\n",
       "   actual_weight  draw  win_odds  place_odds  ...  config_C+3  going_GOOD  \\\n",
       "0            133     7       9.7         3.7  ...           0           0   \n",
       "1            133    12      16.0         4.9  ...           0           0   \n",
       "2            132     8       3.5         1.5  ...           0           0   \n",
       "3            127    13      39.0        11.0  ...           0           0   \n",
       "4            131    14      50.0        14.0  ...           0           0   \n",
       "\n",
       "   going_GOOD TO FIRM  going_GOOD TO YIELDING  going_SLOW  going_SOFT  \\\n",
       "0                   1                       0           0           0   \n",
       "1                   1                       0           0           0   \n",
       "2                   1                       0           0           0   \n",
       "3                   1                       0           0           0   \n",
       "4                   1                       0           0           0   \n",
       "\n",
       "   going_WET FAST  going_WET SLOW  going_YIELDING  going_YIELDING TO SOFT  \n",
       "0               0               0               0                       0  \n",
       "1               0               0               0                       0  \n",
       "2               0               0               0                       0  \n",
       "3               0               0               0                       0  \n",
       "4               0               0               0                       0  \n",
       "\n",
       "[5 rows x 50 columns]"
      ]
     },
     "execution_count": 24,
     "metadata": {},
     "output_type": "execute_result"
    }
   ],
   "source": [
    "df = pd.get_dummies(df, drop_first=True)\n",
    "df.head()"
   ]
  },
  {
   "cell_type": "code",
   "execution_count": 25,
   "metadata": {
    "slideshow": {
     "slide_type": "fragment"
    }
   },
   "outputs": [
    {
     "data": {
      "text/plain": [
       "Index(['race_id', 'won', 'horse_age', 'horse_rating', 'horse_gear',\n",
       "       'declared_weight', 'actual_weight', 'draw', 'win_odds', 'place_odds',\n",
       "       'surface', 'distance', 'race_class', 'horse_country_AUS',\n",
       "       'horse_country_BRZ', 'horse_country_CAN', 'horse_country_FR',\n",
       "       'horse_country_GB', 'horse_country_GER', 'horse_country_GR',\n",
       "       'horse_country_IRE', 'horse_country_ITY', 'horse_country_JPN',\n",
       "       'horse_country_NZ', 'horse_country_SAF', 'horse_country_USA',\n",
       "       'horse_country_ZIM', 'horse_type_Colt', 'horse_type_Filly',\n",
       "       'horse_type_Gelding', 'horse_type_Grey', 'horse_type_Horse',\n",
       "       'horse_type_Mare', 'horse_type_Rig', 'horse_type_Roan', 'venue_ST',\n",
       "       'config_A+3', 'config_B', 'config_B+2', 'config_C', 'config_C+3',\n",
       "       'going_GOOD', 'going_GOOD TO FIRM', 'going_GOOD TO YIELDING',\n",
       "       'going_SLOW', 'going_SOFT', 'going_WET FAST', 'going_WET SLOW',\n",
       "       'going_YIELDING', 'going_YIELDING TO SOFT'],\n",
       "      dtype='object')"
      ]
     },
     "execution_count": 25,
     "metadata": {},
     "output_type": "execute_result"
    }
   ],
   "source": [
    "df.columns"
   ]
  },
  {
   "cell_type": "markdown",
   "metadata": {
    "slideshow": {
     "slide_type": "subslide"
    }
   },
   "source": [
    "## Features explanation:\n",
    "won - whether horse won (1) or otherwise (0)<br/>\n",
    "horse_age - current age of this horse at the time of the race<br/>\n",
    "horse_rating - rating number assigned by HKJC to this horse at the time of the race<br/>\n",
    "horse_gear - string representing the gear carried by the horse in the race. An explanation of the codes used may be found on the HKJC website.<br/>\n",
    "declared_weight - declared weight of the horse and jockey, in lbs<br/>\n",
    "actual_weight - actual weight carried by the horse, in lbs<br/>\n",
    "draw - post position number of the horse in this race<br/>\n",
    "win_odds - win odds for this horse at start of race<br/>\n",
    "place_odds - place (finishing in 1st, 2nd or 3rd position) odds for this horse at start of race<br/>\n",
    "surface - a number representing the type of race track surface: 1 = dirt, 0 = turf<br/>\n",
    "distance - distance of the race, in metres<br/>\n",
    "race_class - a number representing the class of the race<br/>\n",
    "horse_country - country of origin of this horse<br/>\n",
    "horse_type - sex of the horse, e.g. 'Gelding', 'Mare', 'Horse', 'Rig', 'Colt', 'Filly'<br/>\n",
    "venue - a 2-character string, representing which of the 2 race courses this race took place at: ST = Shatin, HV = Happy Valley<br/>\n",
    "config - race track configuration, mostly related to the position of the inside rail. For more details, see the HKJC website.<br/>\n",
    "going - track condition. For more details, see the HKJC website.<br/>"
   ]
  },
  {
   "cell_type": "markdown",
   "metadata": {},
   "source": [
    "# MODELING"
   ]
  },
  {
   "cell_type": "code",
   "execution_count": 26,
   "metadata": {
    "slideshow": {
     "slide_type": "skip"
    }
   },
   "outputs": [
    {
     "name": "stderr",
     "output_type": "stream",
     "text": [
      "Using TensorFlow backend.\n"
     ]
    }
   ],
   "source": [
    "from time import time\n",
    "import seaborn as sns\n",
    "import matplotlib.pyplot as plt\n",
    "from sklearn.model_selection import train_test_split\n",
    "from imblearn.under_sampling import RandomUnderSampler\n",
    "from imblearn.over_sampling import SMOTE\n",
    "from sklearn.neighbors import KNeighborsClassifier\n",
    "import lightgbm as lgb\n",
    "from sklearn.metrics import precision_score, classification_report, confusion_matrix"
   ]
  },
  {
   "cell_type": "markdown",
   "metadata": {
    "slideshow": {
     "slide_type": "subslide"
    }
   },
   "source": [
    "## Extract the last race data for model testing"
   ]
  },
  {
   "cell_type": "code",
   "execution_count": 27,
   "metadata": {
    "slideshow": {
     "slide_type": "fragment"
    }
   },
   "outputs": [
    {
     "data": {
      "text/plain": [
       "6128"
      ]
     },
     "execution_count": 27,
     "metadata": {},
     "output_type": "execute_result"
    }
   ],
   "source": [
    "last_raceid = max(df.race_id)\n",
    "last_raceid"
   ]
  },
  {
   "cell_type": "code",
   "execution_count": 28,
   "metadata": {
    "slideshow": {
     "slide_type": "fragment"
    }
   },
   "outputs": [
    {
     "data": {
      "text/html": [
       "<div>\n",
       "<style scoped>\n",
       "    .dataframe tbody tr th:only-of-type {\n",
       "        vertical-align: middle;\n",
       "    }\n",
       "\n",
       "    .dataframe tbody tr th {\n",
       "        vertical-align: top;\n",
       "    }\n",
       "\n",
       "    .dataframe thead th {\n",
       "        text-align: right;\n",
       "    }\n",
       "</style>\n",
       "<table border=\"1\" class=\"dataframe\">\n",
       "  <thead>\n",
       "    <tr style=\"text-align: right;\">\n",
       "      <th></th>\n",
       "      <th>race_id</th>\n",
       "      <th>won</th>\n",
       "      <th>horse_age</th>\n",
       "      <th>horse_rating</th>\n",
       "      <th>horse_gear</th>\n",
       "      <th>declared_weight</th>\n",
       "      <th>actual_weight</th>\n",
       "      <th>draw</th>\n",
       "      <th>win_odds</th>\n",
       "      <th>place_odds</th>\n",
       "      <th>...</th>\n",
       "      <th>config_C+3</th>\n",
       "      <th>going_GOOD</th>\n",
       "      <th>going_GOOD TO FIRM</th>\n",
       "      <th>going_GOOD TO YIELDING</th>\n",
       "      <th>going_SLOW</th>\n",
       "      <th>going_SOFT</th>\n",
       "      <th>going_WET FAST</th>\n",
       "      <th>going_WET SLOW</th>\n",
       "      <th>going_YIELDING</th>\n",
       "      <th>going_YIELDING TO SOFT</th>\n",
       "    </tr>\n",
       "  </thead>\n",
       "  <tbody>\n",
       "    <tr>\n",
       "      <td>76697</td>\n",
       "      <td>6128</td>\n",
       "      <td>0.0</td>\n",
       "      <td>6</td>\n",
       "      <td>80</td>\n",
       "      <td>1</td>\n",
       "      <td>1078.0</td>\n",
       "      <td>133</td>\n",
       "      <td>11</td>\n",
       "      <td>99.0</td>\n",
       "      <td>19.0</td>\n",
       "      <td>...</td>\n",
       "      <td>1</td>\n",
       "      <td>0</td>\n",
       "      <td>1</td>\n",
       "      <td>0</td>\n",
       "      <td>0</td>\n",
       "      <td>0</td>\n",
       "      <td>0</td>\n",
       "      <td>0</td>\n",
       "      <td>0</td>\n",
       "      <td>0</td>\n",
       "    </tr>\n",
       "    <tr>\n",
       "      <td>76698</td>\n",
       "      <td>6128</td>\n",
       "      <td>0.0</td>\n",
       "      <td>4</td>\n",
       "      <td>77</td>\n",
       "      <td>1</td>\n",
       "      <td>1110.0</td>\n",
       "      <td>130</td>\n",
       "      <td>8</td>\n",
       "      <td>13.0</td>\n",
       "      <td>2.9</td>\n",
       "      <td>...</td>\n",
       "      <td>1</td>\n",
       "      <td>0</td>\n",
       "      <td>1</td>\n",
       "      <td>0</td>\n",
       "      <td>0</td>\n",
       "      <td>0</td>\n",
       "      <td>0</td>\n",
       "      <td>0</td>\n",
       "      <td>0</td>\n",
       "      <td>0</td>\n",
       "    </tr>\n",
       "    <tr>\n",
       "      <td>76699</td>\n",
       "      <td>6128</td>\n",
       "      <td>0.0</td>\n",
       "      <td>4</td>\n",
       "      <td>74</td>\n",
       "      <td>0</td>\n",
       "      <td>980.0</td>\n",
       "      <td>127</td>\n",
       "      <td>5</td>\n",
       "      <td>7.9</td>\n",
       "      <td>2.0</td>\n",
       "      <td>...</td>\n",
       "      <td>1</td>\n",
       "      <td>0</td>\n",
       "      <td>1</td>\n",
       "      <td>0</td>\n",
       "      <td>0</td>\n",
       "      <td>0</td>\n",
       "      <td>0</td>\n",
       "      <td>0</td>\n",
       "      <td>0</td>\n",
       "      <td>0</td>\n",
       "    </tr>\n",
       "    <tr>\n",
       "      <td>76700</td>\n",
       "      <td>6128</td>\n",
       "      <td>1.0</td>\n",
       "      <td>3</td>\n",
       "      <td>73</td>\n",
       "      <td>1</td>\n",
       "      <td>1153.0</td>\n",
       "      <td>126</td>\n",
       "      <td>3</td>\n",
       "      <td>1.7</td>\n",
       "      <td>1.2</td>\n",
       "      <td>...</td>\n",
       "      <td>1</td>\n",
       "      <td>0</td>\n",
       "      <td>1</td>\n",
       "      <td>0</td>\n",
       "      <td>0</td>\n",
       "      <td>0</td>\n",
       "      <td>0</td>\n",
       "      <td>0</td>\n",
       "      <td>0</td>\n",
       "      <td>0</td>\n",
       "    </tr>\n",
       "    <tr>\n",
       "      <td>76701</td>\n",
       "      <td>6128</td>\n",
       "      <td>0.0</td>\n",
       "      <td>4</td>\n",
       "      <td>73</td>\n",
       "      <td>1</td>\n",
       "      <td>1117.0</td>\n",
       "      <td>124</td>\n",
       "      <td>2</td>\n",
       "      <td>71.0</td>\n",
       "      <td>11.0</td>\n",
       "      <td>...</td>\n",
       "      <td>1</td>\n",
       "      <td>0</td>\n",
       "      <td>1</td>\n",
       "      <td>0</td>\n",
       "      <td>0</td>\n",
       "      <td>0</td>\n",
       "      <td>0</td>\n",
       "      <td>0</td>\n",
       "      <td>0</td>\n",
       "      <td>0</td>\n",
       "    </tr>\n",
       "    <tr>\n",
       "      <td>76702</td>\n",
       "      <td>6128</td>\n",
       "      <td>0.0</td>\n",
       "      <td>3</td>\n",
       "      <td>70</td>\n",
       "      <td>1</td>\n",
       "      <td>1166.0</td>\n",
       "      <td>123</td>\n",
       "      <td>13</td>\n",
       "      <td>99.0</td>\n",
       "      <td>23.0</td>\n",
       "      <td>...</td>\n",
       "      <td>1</td>\n",
       "      <td>0</td>\n",
       "      <td>1</td>\n",
       "      <td>0</td>\n",
       "      <td>0</td>\n",
       "      <td>0</td>\n",
       "      <td>0</td>\n",
       "      <td>0</td>\n",
       "      <td>0</td>\n",
       "      <td>0</td>\n",
       "    </tr>\n",
       "    <tr>\n",
       "      <td>76703</td>\n",
       "      <td>6128</td>\n",
       "      <td>0.0</td>\n",
       "      <td>4</td>\n",
       "      <td>70</td>\n",
       "      <td>1</td>\n",
       "      <td>1116.0</td>\n",
       "      <td>123</td>\n",
       "      <td>12</td>\n",
       "      <td>17.0</td>\n",
       "      <td>3.0</td>\n",
       "      <td>...</td>\n",
       "      <td>1</td>\n",
       "      <td>0</td>\n",
       "      <td>1</td>\n",
       "      <td>0</td>\n",
       "      <td>0</td>\n",
       "      <td>0</td>\n",
       "      <td>0</td>\n",
       "      <td>0</td>\n",
       "      <td>0</td>\n",
       "      <td>0</td>\n",
       "    </tr>\n",
       "    <tr>\n",
       "      <td>76704</td>\n",
       "      <td>6128</td>\n",
       "      <td>0.0</td>\n",
       "      <td>4</td>\n",
       "      <td>68</td>\n",
       "      <td>1</td>\n",
       "      <td>1068.0</td>\n",
       "      <td>121</td>\n",
       "      <td>10</td>\n",
       "      <td>55.0</td>\n",
       "      <td>9.0</td>\n",
       "      <td>...</td>\n",
       "      <td>1</td>\n",
       "      <td>0</td>\n",
       "      <td>1</td>\n",
       "      <td>0</td>\n",
       "      <td>0</td>\n",
       "      <td>0</td>\n",
       "      <td>0</td>\n",
       "      <td>0</td>\n",
       "      <td>0</td>\n",
       "      <td>0</td>\n",
       "    </tr>\n",
       "    <tr>\n",
       "      <td>76705</td>\n",
       "      <td>6128</td>\n",
       "      <td>0.0</td>\n",
       "      <td>4</td>\n",
       "      <td>67</td>\n",
       "      <td>1</td>\n",
       "      <td>1091.0</td>\n",
       "      <td>118</td>\n",
       "      <td>1</td>\n",
       "      <td>7.9</td>\n",
       "      <td>2.0</td>\n",
       "      <td>...</td>\n",
       "      <td>1</td>\n",
       "      <td>0</td>\n",
       "      <td>1</td>\n",
       "      <td>0</td>\n",
       "      <td>0</td>\n",
       "      <td>0</td>\n",
       "      <td>0</td>\n",
       "      <td>0</td>\n",
       "      <td>0</td>\n",
       "      <td>0</td>\n",
       "    </tr>\n",
       "    <tr>\n",
       "      <td>76706</td>\n",
       "      <td>6128</td>\n",
       "      <td>0.0</td>\n",
       "      <td>4</td>\n",
       "      <td>65</td>\n",
       "      <td>0</td>\n",
       "      <td>1141.0</td>\n",
       "      <td>116</td>\n",
       "      <td>4</td>\n",
       "      <td>33.0</td>\n",
       "      <td>5.7</td>\n",
       "      <td>...</td>\n",
       "      <td>1</td>\n",
       "      <td>0</td>\n",
       "      <td>1</td>\n",
       "      <td>0</td>\n",
       "      <td>0</td>\n",
       "      <td>0</td>\n",
       "      <td>0</td>\n",
       "      <td>0</td>\n",
       "      <td>0</td>\n",
       "      <td>0</td>\n",
       "    </tr>\n",
       "    <tr>\n",
       "      <td>76707</td>\n",
       "      <td>6128</td>\n",
       "      <td>0.0</td>\n",
       "      <td>6</td>\n",
       "      <td>64</td>\n",
       "      <td>1</td>\n",
       "      <td>1066.0</td>\n",
       "      <td>110</td>\n",
       "      <td>6</td>\n",
       "      <td>99.0</td>\n",
       "      <td>14.0</td>\n",
       "      <td>...</td>\n",
       "      <td>1</td>\n",
       "      <td>0</td>\n",
       "      <td>1</td>\n",
       "      <td>0</td>\n",
       "      <td>0</td>\n",
       "      <td>0</td>\n",
       "      <td>0</td>\n",
       "      <td>0</td>\n",
       "      <td>0</td>\n",
       "      <td>0</td>\n",
       "    </tr>\n",
       "    <tr>\n",
       "      <td>76708</td>\n",
       "      <td>6128</td>\n",
       "      <td>0.0</td>\n",
       "      <td>3</td>\n",
       "      <td>63</td>\n",
       "      <td>1</td>\n",
       "      <td>1115.0</td>\n",
       "      <td>109</td>\n",
       "      <td>14</td>\n",
       "      <td>8.2</td>\n",
       "      <td>2.0</td>\n",
       "      <td>...</td>\n",
       "      <td>1</td>\n",
       "      <td>0</td>\n",
       "      <td>1</td>\n",
       "      <td>0</td>\n",
       "      <td>0</td>\n",
       "      <td>0</td>\n",
       "      <td>0</td>\n",
       "      <td>0</td>\n",
       "      <td>0</td>\n",
       "      <td>0</td>\n",
       "    </tr>\n",
       "    <tr>\n",
       "      <td>76709</td>\n",
       "      <td>6128</td>\n",
       "      <td>0.0</td>\n",
       "      <td>4</td>\n",
       "      <td>63</td>\n",
       "      <td>1</td>\n",
       "      <td>1180.0</td>\n",
       "      <td>117</td>\n",
       "      <td>7</td>\n",
       "      <td>59.0</td>\n",
       "      <td>9.9</td>\n",
       "      <td>...</td>\n",
       "      <td>1</td>\n",
       "      <td>0</td>\n",
       "      <td>1</td>\n",
       "      <td>0</td>\n",
       "      <td>0</td>\n",
       "      <td>0</td>\n",
       "      <td>0</td>\n",
       "      <td>0</td>\n",
       "      <td>0</td>\n",
       "      <td>0</td>\n",
       "    </tr>\n",
       "    <tr>\n",
       "      <td>76710</td>\n",
       "      <td>6128</td>\n",
       "      <td>0.0</td>\n",
       "      <td>3</td>\n",
       "      <td>63</td>\n",
       "      <td>1</td>\n",
       "      <td>1151.0</td>\n",
       "      <td>116</td>\n",
       "      <td>9</td>\n",
       "      <td>99.0</td>\n",
       "      <td>26.0</td>\n",
       "      <td>...</td>\n",
       "      <td>1</td>\n",
       "      <td>0</td>\n",
       "      <td>1</td>\n",
       "      <td>0</td>\n",
       "      <td>0</td>\n",
       "      <td>0</td>\n",
       "      <td>0</td>\n",
       "      <td>0</td>\n",
       "      <td>0</td>\n",
       "      <td>0</td>\n",
       "    </tr>\n",
       "  </tbody>\n",
       "</table>\n",
       "<p>14 rows × 50 columns</p>\n",
       "</div>"
      ],
      "text/plain": [
       "       race_id  won  horse_age  horse_rating  horse_gear  declared_weight  \\\n",
       "76697     6128  0.0          6            80           1           1078.0   \n",
       "76698     6128  0.0          4            77           1           1110.0   \n",
       "76699     6128  0.0          4            74           0            980.0   \n",
       "76700     6128  1.0          3            73           1           1153.0   \n",
       "76701     6128  0.0          4            73           1           1117.0   \n",
       "76702     6128  0.0          3            70           1           1166.0   \n",
       "76703     6128  0.0          4            70           1           1116.0   \n",
       "76704     6128  0.0          4            68           1           1068.0   \n",
       "76705     6128  0.0          4            67           1           1091.0   \n",
       "76706     6128  0.0          4            65           0           1141.0   \n",
       "76707     6128  0.0          6            64           1           1066.0   \n",
       "76708     6128  0.0          3            63           1           1115.0   \n",
       "76709     6128  0.0          4            63           1           1180.0   \n",
       "76710     6128  0.0          3            63           1           1151.0   \n",
       "\n",
       "       actual_weight  draw  win_odds  place_odds  ...  config_C+3  going_GOOD  \\\n",
       "76697            133    11      99.0        19.0  ...           1           0   \n",
       "76698            130     8      13.0         2.9  ...           1           0   \n",
       "76699            127     5       7.9         2.0  ...           1           0   \n",
       "76700            126     3       1.7         1.2  ...           1           0   \n",
       "76701            124     2      71.0        11.0  ...           1           0   \n",
       "76702            123    13      99.0        23.0  ...           1           0   \n",
       "76703            123    12      17.0         3.0  ...           1           0   \n",
       "76704            121    10      55.0         9.0  ...           1           0   \n",
       "76705            118     1       7.9         2.0  ...           1           0   \n",
       "76706            116     4      33.0         5.7  ...           1           0   \n",
       "76707            110     6      99.0        14.0  ...           1           0   \n",
       "76708            109    14       8.2         2.0  ...           1           0   \n",
       "76709            117     7      59.0         9.9  ...           1           0   \n",
       "76710            116     9      99.0        26.0  ...           1           0   \n",
       "\n",
       "       going_GOOD TO FIRM  going_GOOD TO YIELDING  going_SLOW  going_SOFT  \\\n",
       "76697                   1                       0           0           0   \n",
       "76698                   1                       0           0           0   \n",
       "76699                   1                       0           0           0   \n",
       "76700                   1                       0           0           0   \n",
       "76701                   1                       0           0           0   \n",
       "76702                   1                       0           0           0   \n",
       "76703                   1                       0           0           0   \n",
       "76704                   1                       0           0           0   \n",
       "76705                   1                       0           0           0   \n",
       "76706                   1                       0           0           0   \n",
       "76707                   1                       0           0           0   \n",
       "76708                   1                       0           0           0   \n",
       "76709                   1                       0           0           0   \n",
       "76710                   1                       0           0           0   \n",
       "\n",
       "       going_WET FAST  going_WET SLOW  going_YIELDING  going_YIELDING TO SOFT  \n",
       "76697               0               0               0                       0  \n",
       "76698               0               0               0                       0  \n",
       "76699               0               0               0                       0  \n",
       "76700               0               0               0                       0  \n",
       "76701               0               0               0                       0  \n",
       "76702               0               0               0                       0  \n",
       "76703               0               0               0                       0  \n",
       "76704               0               0               0                       0  \n",
       "76705               0               0               0                       0  \n",
       "76706               0               0               0                       0  \n",
       "76707               0               0               0                       0  \n",
       "76708               0               0               0                       0  \n",
       "76709               0               0               0                       0  \n",
       "76710               0               0               0                       0  \n",
       "\n",
       "[14 rows x 50 columns]"
      ]
     },
     "execution_count": 28,
     "metadata": {},
     "output_type": "execute_result"
    }
   ],
   "source": [
    "# split the last race data for deployment & save it in last_race variable\n",
    "last_race = df[df.race_id == last_raceid]\n",
    "last_race"
   ]
  },
  {
   "cell_type": "code",
   "execution_count": 29,
   "metadata": {
    "slideshow": {
     "slide_type": "subslide"
    }
   },
   "outputs": [
    {
     "data": {
      "text/html": [
       "<div>\n",
       "<style scoped>\n",
       "    .dataframe tbody tr th:only-of-type {\n",
       "        vertical-align: middle;\n",
       "    }\n",
       "\n",
       "    .dataframe tbody tr th {\n",
       "        vertical-align: top;\n",
       "    }\n",
       "\n",
       "    .dataframe thead th {\n",
       "        text-align: right;\n",
       "    }\n",
       "</style>\n",
       "<table border=\"1\" class=\"dataframe\">\n",
       "  <thead>\n",
       "    <tr style=\"text-align: right;\">\n",
       "      <th></th>\n",
       "      <th>won</th>\n",
       "      <th>horse_age</th>\n",
       "      <th>horse_rating</th>\n",
       "      <th>horse_gear</th>\n",
       "      <th>declared_weight</th>\n",
       "      <th>actual_weight</th>\n",
       "      <th>draw</th>\n",
       "      <th>win_odds</th>\n",
       "      <th>place_odds</th>\n",
       "      <th>surface</th>\n",
       "      <th>...</th>\n",
       "      <th>config_C+3</th>\n",
       "      <th>going_GOOD</th>\n",
       "      <th>going_GOOD TO FIRM</th>\n",
       "      <th>going_GOOD TO YIELDING</th>\n",
       "      <th>going_SLOW</th>\n",
       "      <th>going_SOFT</th>\n",
       "      <th>going_WET FAST</th>\n",
       "      <th>going_WET SLOW</th>\n",
       "      <th>going_YIELDING</th>\n",
       "      <th>going_YIELDING TO SOFT</th>\n",
       "    </tr>\n",
       "  </thead>\n",
       "  <tbody>\n",
       "    <tr>\n",
       "      <td>76692</td>\n",
       "      <td>0.0</td>\n",
       "      <td>4</td>\n",
       "      <td>84</td>\n",
       "      <td>1</td>\n",
       "      <td>1115.0</td>\n",
       "      <td>121</td>\n",
       "      <td>4</td>\n",
       "      <td>99.0</td>\n",
       "      <td>26.0</td>\n",
       "      <td>0</td>\n",
       "      <td>...</td>\n",
       "      <td>1</td>\n",
       "      <td>0</td>\n",
       "      <td>1</td>\n",
       "      <td>0</td>\n",
       "      <td>0</td>\n",
       "      <td>0</td>\n",
       "      <td>0</td>\n",
       "      <td>0</td>\n",
       "      <td>0</td>\n",
       "      <td>0</td>\n",
       "    </tr>\n",
       "    <tr>\n",
       "      <td>76693</td>\n",
       "      <td>0.0</td>\n",
       "      <td>5</td>\n",
       "      <td>84</td>\n",
       "      <td>1</td>\n",
       "      <td>1167.0</td>\n",
       "      <td>121</td>\n",
       "      <td>12</td>\n",
       "      <td>85.0</td>\n",
       "      <td>13.0</td>\n",
       "      <td>0</td>\n",
       "      <td>...</td>\n",
       "      <td>1</td>\n",
       "      <td>0</td>\n",
       "      <td>1</td>\n",
       "      <td>0</td>\n",
       "      <td>0</td>\n",
       "      <td>0</td>\n",
       "      <td>0</td>\n",
       "      <td>0</td>\n",
       "      <td>0</td>\n",
       "      <td>0</td>\n",
       "    </tr>\n",
       "    <tr>\n",
       "      <td>76694</td>\n",
       "      <td>0.0</td>\n",
       "      <td>8</td>\n",
       "      <td>83</td>\n",
       "      <td>1</td>\n",
       "      <td>1097.0</td>\n",
       "      <td>113</td>\n",
       "      <td>2</td>\n",
       "      <td>14.0</td>\n",
       "      <td>3.9</td>\n",
       "      <td>0</td>\n",
       "      <td>...</td>\n",
       "      <td>1</td>\n",
       "      <td>0</td>\n",
       "      <td>1</td>\n",
       "      <td>0</td>\n",
       "      <td>0</td>\n",
       "      <td>0</td>\n",
       "      <td>0</td>\n",
       "      <td>0</td>\n",
       "      <td>0</td>\n",
       "      <td>0</td>\n",
       "    </tr>\n",
       "    <tr>\n",
       "      <td>76695</td>\n",
       "      <td>0.0</td>\n",
       "      <td>6</td>\n",
       "      <td>83</td>\n",
       "      <td>1</td>\n",
       "      <td>1092.0</td>\n",
       "      <td>118</td>\n",
       "      <td>8</td>\n",
       "      <td>99.0</td>\n",
       "      <td>24.0</td>\n",
       "      <td>0</td>\n",
       "      <td>...</td>\n",
       "      <td>1</td>\n",
       "      <td>0</td>\n",
       "      <td>1</td>\n",
       "      <td>0</td>\n",
       "      <td>0</td>\n",
       "      <td>0</td>\n",
       "      <td>0</td>\n",
       "      <td>0</td>\n",
       "      <td>0</td>\n",
       "      <td>0</td>\n",
       "    </tr>\n",
       "    <tr>\n",
       "      <td>76696</td>\n",
       "      <td>0.0</td>\n",
       "      <td>4</td>\n",
       "      <td>81</td>\n",
       "      <td>1</td>\n",
       "      <td>1098.0</td>\n",
       "      <td>111</td>\n",
       "      <td>13</td>\n",
       "      <td>3.1</td>\n",
       "      <td>1.5</td>\n",
       "      <td>0</td>\n",
       "      <td>...</td>\n",
       "      <td>1</td>\n",
       "      <td>0</td>\n",
       "      <td>1</td>\n",
       "      <td>0</td>\n",
       "      <td>0</td>\n",
       "      <td>0</td>\n",
       "      <td>0</td>\n",
       "      <td>0</td>\n",
       "      <td>0</td>\n",
       "      <td>0</td>\n",
       "    </tr>\n",
       "  </tbody>\n",
       "</table>\n",
       "<p>5 rows × 49 columns</p>\n",
       "</div>"
      ],
      "text/plain": [
       "       won  horse_age  horse_rating  horse_gear  declared_weight  \\\n",
       "76692  0.0          4            84           1           1115.0   \n",
       "76693  0.0          5            84           1           1167.0   \n",
       "76694  0.0          8            83           1           1097.0   \n",
       "76695  0.0          6            83           1           1092.0   \n",
       "76696  0.0          4            81           1           1098.0   \n",
       "\n",
       "       actual_weight  draw  win_odds  place_odds  surface  ...  config_C+3  \\\n",
       "76692            121     4      99.0        26.0        0  ...           1   \n",
       "76693            121    12      85.0        13.0        0  ...           1   \n",
       "76694            113     2      14.0         3.9        0  ...           1   \n",
       "76695            118     8      99.0        24.0        0  ...           1   \n",
       "76696            111    13       3.1         1.5        0  ...           1   \n",
       "\n",
       "       going_GOOD  going_GOOD TO FIRM  going_GOOD TO YIELDING  going_SLOW  \\\n",
       "76692           0                   1                       0           0   \n",
       "76693           0                   1                       0           0   \n",
       "76694           0                   1                       0           0   \n",
       "76695           0                   1                       0           0   \n",
       "76696           0                   1                       0           0   \n",
       "\n",
       "       going_SOFT  going_WET FAST  going_WET SLOW  going_YIELDING  \\\n",
       "76692           0               0               0               0   \n",
       "76693           0               0               0               0   \n",
       "76694           0               0               0               0   \n",
       "76695           0               0               0               0   \n",
       "76696           0               0               0               0   \n",
       "\n",
       "       going_YIELDING TO SOFT  \n",
       "76692                       0  \n",
       "76693                       0  \n",
       "76694                       0  \n",
       "76695                       0  \n",
       "76696                       0  \n",
       "\n",
       "[5 rows x 49 columns]"
      ]
     },
     "execution_count": 29,
     "metadata": {},
     "output_type": "execute_result"
    }
   ],
   "source": [
    "new_data = df[:75696]   # drop the last race data for modeling\n",
    "new_data = new_data.drop(columns='race_id')   # drop the unnecessary race_id column\n",
    "new_data.tail()"
   ]
  },
  {
   "cell_type": "code",
   "execution_count": 30,
   "metadata": {
    "slideshow": {
     "slide_type": "fragment"
    }
   },
   "outputs": [
    {
     "data": {
      "text/plain": [
       "(75696, 49)"
      ]
     },
     "execution_count": 30,
     "metadata": {},
     "output_type": "execute_result"
    }
   ],
   "source": [
    "new_data.shape"
   ]
  },
  {
   "cell_type": "markdown",
   "metadata": {
    "slideshow": {
     "slide_type": "subslide"
    }
   },
   "source": [
    "## Distribution of labels"
   ]
  },
  {
   "cell_type": "code",
   "execution_count": 31,
   "metadata": {
    "slideshow": {
     "slide_type": "fragment"
    }
   },
   "outputs": [
    {
     "data": {
      "text/plain": [
       "Text(0.5, 1.0, 'Number of Labels by Class')"
      ]
     },
     "execution_count": 31,
     "metadata": {},
     "output_type": "execute_result"
    },
    {
     "data": {
      "image/png": "[encoded data removed]",
      "text/plain": [
       "<Figure size 432x288 with 1 Axes>"
      ]
     },
     "metadata": {
      "needs_background": "light"
     },
     "output_type": "display_data"
    }
   ],
   "source": [
    "plt.figure(figsize=(6,4))\n",
    "sns.countplot(data=new_data, x='won')\n",
    "plt.title('Number of Labels by Class')"
   ]
  },
  {
   "cell_type": "code",
   "execution_count": 32,
   "metadata": {
    "slideshow": {
     "slide_type": "fragment"
    }
   },
   "outputs": [],
   "source": [
    "X = new_data.drop(columns='won')\n",
    "y = new_data['won']"
   ]
  },
  {
   "cell_type": "code",
   "execution_count": 33,
   "metadata": {
    "slideshow": {
     "slide_type": "subslide"
    }
   },
   "outputs": [
    {
     "data": {
      "text/plain": [
       "0.0    69638\n",
       "1.0     6058\n",
       "Name: won, dtype: int64"
      ]
     },
     "execution_count": 33,
     "metadata": {},
     "output_type": "execute_result"
    }
   ],
   "source": [
    "# extermely skewed data\n",
    "y.value_counts()"
   ]
  },
  {
   "cell_type": "code",
   "execution_count": 34,
   "metadata": {
    "slideshow": {
     "slide_type": "fragment"
    }
   },
   "outputs": [],
   "source": [
    "X_train, X_test, y_train, y_test = train_test_split(X, y, test_size=0.2, random_state=4)"
   ]
  },
  {
   "cell_type": "markdown",
   "metadata": {
    "slideshow": {
     "slide_type": "subslide"
    }
   },
   "source": [
    "## kNN Classifier (original data)"
   ]
  },
  {
   "cell_type": "code",
   "execution_count": 35,
   "metadata": {
    "slideshow": {
     "slide_type": "fragment"
    }
   },
   "outputs": [],
   "source": [
    "k_range = range(1,10)\n",
    "scores = {}\n",
    "scores_list = []\n",
    "\n",
    "for k in k_range:\n",
    "    knn = KNeighborsClassifier(n_neighbors=k)\n",
    "    knn.fit(X_train, y_train)\n",
    "    y_pred = knn.predict(X_test)\n",
    "    # precision ratio: tp / (tp + fp), aiming at minimize fp (predict: win, actual: lose)\n",
    "    scores[k] = precision_score(y_test, y_pred)\n",
    "    scores_list.append(precision_score(y_test, y_pred))"
   ]
  },
  {
   "cell_type": "code",
   "execution_count": 36,
   "metadata": {
    "slideshow": {
     "slide_type": "fragment"
    }
   },
   "outputs": [
    {
     "data": {
      "text/plain": [
       "(8, 0.3170731707317073)"
      ]
     },
     "execution_count": 36,
     "metadata": {},
     "output_type": "execute_result"
    }
   ],
   "source": [
    "# find the highest precision score of the positive class (1)\n",
    "import operator\n",
    "max(scores.items(), key=operator.itemgetter(1))"
   ]
  },
  {
   "cell_type": "code",
   "execution_count": 37,
   "metadata": {
    "slideshow": {
     "slide_type": "subslide"
    }
   },
   "outputs": [
    {
     "data": {
      "text/plain": [
       "Text(0.5, 1.0, 'Original Data')"
      ]
     },
     "execution_count": 37,
     "metadata": {},
     "output_type": "execute_result"
    },
    {
     "data": {
      "image/png": "[encoded data removed]",
      "text/plain": [
       "<Figure size 432x288 with 1 Axes>"
      ]
     },
     "metadata": {
      "needs_background": "light"
     },
     "output_type": "display_data"
    }
   ],
   "source": [
    "plt.plot(k_range, scores_list)\n",
    "plt.xlabel('Value of K for KNN')\n",
    "plt.ylabel('Precision Score of the positive class (1)')\n",
    "plt.title('Original Data')"
   ]
  },
  {
   "cell_type": "code",
   "execution_count": 38,
   "metadata": {
    "slideshow": {
     "slide_type": "fragment"
    }
   },
   "outputs": [
    {
     "name": "stdout",
     "output_type": "stream",
     "text": [
      "time cost: 6.52180 sec\n"
     ]
    }
   ],
   "source": [
    "start = time()\n",
    "\n",
    "knn = KNeighborsClassifier(n_neighbors=8)\n",
    "knn.fit(X_train, y_train)\n",
    "y_pred = knn.predict(X_test)\n",
    "\n",
    "end = time()\n",
    "running_time = end - start\n",
    "print('time cost: %.5f sec' %running_time)"
   ]
  },
  {
   "cell_type": "code",
   "execution_count": 39,
   "metadata": {
    "slideshow": {
     "slide_type": "skip"
    }
   },
   "outputs": [
    {
     "name": "stdout",
     "output_type": "stream",
     "text": [
      "              precision    recall  f1-score   support\n",
      "\n",
      "         0.0       0.92      1.00      0.96     13918\n",
      "         1.0       0.32      0.01      0.02      1222\n",
      "\n",
      "    accuracy                           0.92     15140\n",
      "   macro avg       0.62      0.50      0.49     15140\n",
      "weighted avg       0.87      0.92      0.88     15140\n",
      "\n"
     ]
    }
   ],
   "source": [
    "print(classification_report(y_test, y_pred))"
   ]
  },
  {
   "cell_type": "code",
   "execution_count": 40,
   "metadata": {
    "slideshow": {
     "slide_type": "skip"
    }
   },
   "outputs": [
    {
     "name": "stdout",
     "output_type": "stream",
     "text": [
      "[[13890    28]\n",
      " [ 1209    13]]\n"
     ]
    },
    {
     "data": {
      "text/plain": [
       "Text(0, 0.5, 'True')"
      ]
     },
     "execution_count": 40,
     "metadata": {},
     "output_type": "execute_result"
    },
    {
     "data": {
      "image/png": "[encoded data removed]",
      "text/plain": [
       "<Figure size 432x288 with 2 Axes>"
      ]
     },
     "metadata": {
      "needs_background": "light"
     },
     "output_type": "display_data"
    }
   ],
   "source": [
    "labels = ['lose', 'win']\n",
    "cm = confusion_matrix(y_test, y_pred)\n",
    "print(cm)\n",
    "fig = plt.figure()\n",
    "ax = fig.add_subplot(111)\n",
    "cax = ax.matshow(cm)\n",
    "plt.title('Confusion matrix')\n",
    "fig.colorbar(cax)\n",
    "ax.set_xticklabels([''] + labels)\n",
    "ax.set_yticklabels([''] + labels)\n",
    "plt.xlabel('Predicted')\n",
    "plt.ylabel('True')"
   ]
  },
  {
   "cell_type": "markdown",
   "metadata": {
    "slideshow": {
     "slide_type": "subslide"
    }
   },
   "source": [
    "## kNN Classifier (under-sampling)"
   ]
  },
  {
   "cell_type": "code",
   "execution_count": 41,
   "metadata": {
    "slideshow": {
     "slide_type": "fragment"
    }
   },
   "outputs": [],
   "source": [
    "rus = RandomUnderSampler(random_state=0)\n",
    "X_rus, y_rus = rus.fit_sample(X_train, y_train)\n",
    "\n",
    "k_range = range(1,10)\n",
    "scores = {}\n",
    "scores_list = []\n",
    "\n",
    "for k in k_range:\n",
    "    knn = KNeighborsClassifier(n_neighbors=k)\n",
    "    knn.fit(X_rus, y_rus)\n",
    "    y_pred = knn.predict(X_test)\n",
    "    scores[k] = precision_score(y_test, y_pred)\n",
    "    scores_list.append(precision_score(y_test, y_pred))"
   ]
  },
  {
   "cell_type": "code",
   "execution_count": 42,
   "metadata": {
    "slideshow": {
     "slide_type": "fragment"
    }
   },
   "outputs": [
    {
     "data": {
      "text/plain": [
       "(8, 0.15118616807398472)"
      ]
     },
     "execution_count": 42,
     "metadata": {},
     "output_type": "execute_result"
    }
   ],
   "source": [
    "max(scores.items(), key=operator.itemgetter(1))"
   ]
  },
  {
   "cell_type": "code",
   "execution_count": 43,
   "metadata": {
    "slideshow": {
     "slide_type": "subslide"
    }
   },
   "outputs": [
    {
     "data": {
      "text/plain": [
       "Text(0.5, 1.0, 'RUS Data')"
      ]
     },
     "execution_count": 43,
     "metadata": {},
     "output_type": "execute_result"
    },
    {
     "data": {
      "image/png": "[encoded data removed]",
      "text/plain": [
       "<Figure size 432x288 with 1 Axes>"
      ]
     },
     "metadata": {
      "needs_background": "light"
     },
     "output_type": "display_data"
    }
   ],
   "source": [
    "plt.plot(k_range, scores_list)\n",
    "plt.xlabel('Value of K for KNN')\n",
    "plt.ylabel('Precision Score of the positive class (1)')\n",
    "plt.title('RUS Data')"
   ]
  },
  {
   "cell_type": "code",
   "execution_count": 44,
   "metadata": {
    "slideshow": {
     "slide_type": "fragment"
    }
   },
   "outputs": [
    {
     "name": "stdout",
     "output_type": "stream",
     "text": [
      "time cost: 1.44231 sec\n"
     ]
    }
   ],
   "source": [
    "start = time()\n",
    "\n",
    "knn_rus = KNeighborsClassifier(n_neighbors=8)\n",
    "knn_rus.fit(X_rus, y_rus)\n",
    "y_pred = knn_rus.predict(X_test)\n",
    "\n",
    "end = time()\n",
    "running_time = end - start\n",
    "print('time cost: %.5f sec' %running_time)"
   ]
  },
  {
   "cell_type": "code",
   "execution_count": 45,
   "metadata": {
    "slideshow": {
     "slide_type": "skip"
    }
   },
   "outputs": [
    {
     "name": "stdout",
     "output_type": "stream",
     "text": [
      "              precision    recall  f1-score   support\n",
      "\n",
      "         0.0       0.95      0.70      0.81     13918\n",
      "         1.0       0.15      0.62      0.24      1222\n",
      "\n",
      "    accuracy                           0.69     15140\n",
      "   macro avg       0.55      0.66      0.52     15140\n",
      "weighted avg       0.89      0.69      0.76     15140\n",
      "\n"
     ]
    }
   ],
   "source": [
    "print(classification_report(y_test, y_pred))"
   ]
  },
  {
   "cell_type": "code",
   "execution_count": 46,
   "metadata": {
    "slideshow": {
     "slide_type": "skip"
    }
   },
   "outputs": [
    {
     "name": "stdout",
     "output_type": "stream",
     "text": [
      "[[9696 4222]\n",
      " [ 470  752]]\n"
     ]
    },
    {
     "data": {
      "text/plain": [
       "Text(0, 0.5, 'True')"
      ]
     },
     "execution_count": 46,
     "metadata": {},
     "output_type": "execute_result"
    },
    {
     "data": {
      "image/png": "[encoded data removed]",
      "text/plain": [
       "<Figure size 432x288 with 2 Axes>"
      ]
     },
     "metadata": {
      "needs_background": "light"
     },
     "output_type": "display_data"
    }
   ],
   "source": [
    "labels = ['lose', 'win']\n",
    "cm = confusion_matrix(y_test, y_pred)\n",
    "print(cm)\n",
    "fig = plt.figure()\n",
    "ax = fig.add_subplot(111)\n",
    "cax = ax.matshow(cm)\n",
    "plt.title('Confusion matrix')\n",
    "fig.colorbar(cax)\n",
    "ax.set_xticklabels([''] + labels)\n",
    "ax.set_yticklabels([''] + labels)\n",
    "plt.xlabel('Predicted')\n",
    "plt.ylabel('True')"
   ]
  },
  {
   "cell_type": "markdown",
   "metadata": {
    "slideshow": {
     "slide_type": "subslide"
    }
   },
   "source": [
    "## kNN Classifier (over-sampling)"
   ]
  },
  {
   "cell_type": "code",
   "execution_count": 47,
   "metadata": {
    "slideshow": {
     "slide_type": "fragment"
    }
   },
   "outputs": [],
   "source": [
    "sm = SMOTE(random_state=0)\n",
    "X_sm, y_sm = sm.fit_sample(X_train, y_train)\n",
    "\n",
    "k_range = range(1,10)\n",
    "scores = {}\n",
    "scores_list = []\n",
    "\n",
    "for k in k_range:\n",
    "    knn = KNeighborsClassifier(n_neighbors=k)\n",
    "    knn.fit(X_sm, y_sm)\n",
    "    y_pred = knn.predict(X_test)\n",
    "    scores[k] = precision_score(y_test, y_pred)\n",
    "    scores_list.append(precision_score(y_test, y_pred))"
   ]
  },
  {
   "cell_type": "code",
   "execution_count": 48,
   "metadata": {
    "slideshow": {
     "slide_type": "fragment"
    }
   },
   "outputs": [
    {
     "data": {
      "text/plain": [
       "(2, 0.15355805243445692)"
      ]
     },
     "execution_count": 48,
     "metadata": {},
     "output_type": "execute_result"
    }
   ],
   "source": [
    "max(scores.items(), key=operator.itemgetter(1))"
   ]
  },
  {
   "cell_type": "code",
   "execution_count": 49,
   "metadata": {
    "slideshow": {
     "slide_type": "subslide"
    }
   },
   "outputs": [
    {
     "data": {
      "text/plain": [
       "Text(0.5, 1.0, 'SMOTE Data')"
      ]
     },
     "execution_count": 49,
     "metadata": {},
     "output_type": "execute_result"
    },
    {
     "data": {
      "image/png": "[encoded data removed]",
      "text/plain": [
       "<Figure size 432x288 with 1 Axes>"
      ]
     },
     "metadata": {
      "needs_background": "light"
     },
     "output_type": "display_data"
    }
   ],
   "source": [
    "# SMOTE data\n",
    "plt.plot(k_range, scores_list)\n",
    "plt.xlabel('Value of K for KNN')\n",
    "plt.ylabel('Precision Score of the positive class (1)')\n",
    "plt.title('SMOTE Data')"
   ]
  },
  {
   "cell_type": "code",
   "execution_count": 50,
   "metadata": {
    "slideshow": {
     "slide_type": "fragment"
    }
   },
   "outputs": [
    {
     "name": "stdout",
     "output_type": "stream",
     "text": [
      "time cost: 10.94690 sec\n"
     ]
    }
   ],
   "source": [
    "start = time()\n",
    "\n",
    "knn_sm = KNeighborsClassifier(n_neighbors=2)\n",
    "knn_sm.fit(X_sm, y_sm)\n",
    "y_pred = knn_sm.predict(X_test)\n",
    "\n",
    "end = time()\n",
    "running_time = end - start\n",
    "print('time cost: %.5f sec' %running_time)"
   ]
  },
  {
   "cell_type": "code",
   "execution_count": 51,
   "metadata": {
    "slideshow": {
     "slide_type": "skip"
    }
   },
   "outputs": [
    {
     "name": "stdout",
     "output_type": "stream",
     "text": [
      "              precision    recall  f1-score   support\n",
      "\n",
      "         0.0       0.93      0.87      0.90     13918\n",
      "         1.0       0.15      0.27      0.20      1222\n",
      "\n",
      "    accuracy                           0.82     15140\n",
      "   macro avg       0.54      0.57      0.55     15140\n",
      "weighted avg       0.87      0.82      0.84     15140\n",
      "\n"
     ]
    }
   ],
   "source": [
    "print(classification_report(y_test, y_pred))"
   ]
  },
  {
   "cell_type": "code",
   "execution_count": 52,
   "metadata": {
    "slideshow": {
     "slide_type": "skip"
    }
   },
   "outputs": [
    {
     "name": "stdout",
     "output_type": "stream",
     "text": [
      "[[12110  1808]\n",
      " [  894   328]]\n"
     ]
    },
    {
     "data": {
      "text/plain": [
       "Text(0, 0.5, 'True')"
      ]
     },
     "execution_count": 52,
     "metadata": {},
     "output_type": "execute_result"
    },
    {
     "data": {
      "image/png": "[encoded data removed]",
      "text/plain": [
       "<Figure size 432x288 with 2 Axes>"
      ]
     },
     "metadata": {
      "needs_background": "light"
     },
     "output_type": "display_data"
    }
   ],
   "source": [
    "labels = ['lose', 'win']\n",
    "cm = confusion_matrix(y_test, y_pred)\n",
    "print(cm)\n",
    "fig = plt.figure()\n",
    "ax = fig.add_subplot(111)\n",
    "cax = ax.matshow(cm)\n",
    "plt.title('Confusion matrix')\n",
    "fig.colorbar(cax)\n",
    "ax.set_xticklabels([''] + labels)\n",
    "ax.set_yticklabels([''] + labels)\n",
    "plt.xlabel('Predicted')\n",
    "plt.ylabel('True')"
   ]
  },
  {
   "cell_type": "markdown",
   "metadata": {
    "slideshow": {
     "slide_type": "subslide"
    }
   },
   "source": [
    "LightGBM is a gradient boosting framework that uses tree based learning algorithms. It is designed to be distributed and efficient with the following advantages:\n",
    "* Faster training speed and higher efficiency.\n",
    "* Lower memory usage.\n",
    "* Better accuracy.\n",
    "* Support of parallel and GPU learning.\n",
    "* Capable of handling large-scale data."
   ]
  },
  {
   "cell_type": "markdown",
   "metadata": {
    "slideshow": {
     "slide_type": "fragment"
    }
   },
   "source": [
    "## LightGBM (original data)"
   ]
  },
  {
   "cell_type": "code",
   "execution_count": 53,
   "metadata": {
    "slideshow": {
     "slide_type": "fragment"
    }
   },
   "outputs": [
    {
     "name": "stdout",
     "output_type": "stream",
     "text": [
      "time cost: 1.41687 sec\n"
     ]
    }
   ],
   "source": [
    "start = time()\n",
    "\n",
    "d_train = lgb.Dataset(X_train, label = y_train)\n",
    "params = {}\n",
    "params['learning_rate'] = 0.003\n",
    "params['boosting_type'] = 'gbdt'\n",
    "params['objective'] = 'binary'\n",
    "params['metric'] = 'binary_logloss'\n",
    "params['sub_feature'] = 0.5\n",
    "params['num_leaves'] = 100\n",
    "params['min_data'] = 500\n",
    "params['max_depth'] = 100\n",
    "clf = lgb.train(params, d_train, 100)\n",
    "\n",
    "end = time()\n",
    "running_time = end - start\n",
    "print('time cost: %.5f sec' %running_time)"
   ]
  },
  {
   "cell_type": "code",
   "execution_count": 54,
   "metadata": {
    "slideshow": {
     "slide_type": "subslide"
    }
   },
   "outputs": [],
   "source": [
    "#Prediction\n",
    "y_pred = clf.predict(X_test)\n",
    "#convert into binary values\n",
    "for i in range(15140):\n",
    "    if y_pred[i] >= 0.0995:       # setting threshold \n",
    "        y_pred[i] = 1\n",
    "    else:  \n",
    "        y_pred[i] = 0"
   ]
  },
  {
   "cell_type": "code",
   "execution_count": 55,
   "metadata": {
    "slideshow": {
     "slide_type": "fragment"
    }
   },
   "outputs": [
    {
     "name": "stdout",
     "output_type": "stream",
     "text": [
      "              precision    recall  f1-score   support\n",
      "\n",
      "         0.0       0.95      0.91      0.93     13918\n",
      "         1.0       0.28      0.40      0.33      1222\n",
      "\n",
      "    accuracy                           0.87     15140\n",
      "   macro avg       0.61      0.66      0.63     15140\n",
      "weighted avg       0.89      0.87      0.88     15140\n",
      "\n"
     ]
    }
   ],
   "source": [
    "print(classification_report(y_test, y_pred))"
   ]
  },
  {
   "cell_type": "code",
   "execution_count": 56,
   "metadata": {
    "slideshow": {
     "slide_type": "skip"
    }
   },
   "outputs": [
    {
     "name": "stdout",
     "output_type": "stream",
     "text": [
      "[[12631  1287]\n",
      " [  729   493]]\n"
     ]
    },
    {
     "data": {
      "text/plain": [
       "Text(0, 0.5, 'True')"
      ]
     },
     "execution_count": 56,
     "metadata": {},
     "output_type": "execute_result"
    },
    {
     "data": {
      "image/png": "[encoded data removed]",
      "text/plain": [
       "<Figure size 432x288 with 2 Axes>"
      ]
     },
     "metadata": {
      "needs_background": "light"
     },
     "output_type": "display_data"
    }
   ],
   "source": [
    "labels = ['lose', 'win']\n",
    "cm = confusion_matrix(y_test, y_pred)\n",
    "print(cm)\n",
    "fig = plt.figure()\n",
    "ax = fig.add_subplot(111)\n",
    "cax = ax.matshow(cm)\n",
    "plt.title('Confusion matrix')\n",
    "fig.colorbar(cax)\n",
    "ax.set_xticklabels([''] + labels)\n",
    "ax.set_yticklabels([''] + labels)\n",
    "plt.xlabel('Predicted')\n",
    "plt.ylabel('True')"
   ]
  },
  {
   "cell_type": "code",
   "execution_count": 57,
   "metadata": {
    "slideshow": {
     "slide_type": "skip"
    }
   },
   "outputs": [
    {
     "data": {
      "text/plain": [
       "<matplotlib.axes._subplots.AxesSubplot at 0x7f2fdc9fb6a0>"
      ]
     },
     "execution_count": 57,
     "metadata": {},
     "output_type": "execute_result"
    },
    {
     "data": {
      "image/png": "[encoded data removed]",
      "text/plain": [
       "<Figure size 432x288 with 1 Axes>"
      ]
     },
     "metadata": {
      "needs_background": "light"
     },
     "output_type": "display_data"
    }
   ],
   "source": [
    "# plot model’s feature importances (original data)\n",
    "lgb.plot_importance(clf, max_num_features=10)"
   ]
  },
  {
   "cell_type": "markdown",
   "metadata": {
    "slideshow": {
     "slide_type": "subslide"
    }
   },
   "source": [
    "## LightGBM (under-sampling)"
   ]
  },
  {
   "cell_type": "code",
   "execution_count": 58,
   "metadata": {
    "slideshow": {
     "slide_type": "skip"
    }
   },
   "outputs": [
    {
     "data": {
      "text/html": [
       "<div>\n",
       "<style scoped>\n",
       "    .dataframe tbody tr th:only-of-type {\n",
       "        vertical-align: middle;\n",
       "    }\n",
       "\n",
       "    .dataframe tbody tr th {\n",
       "        vertical-align: top;\n",
       "    }\n",
       "\n",
       "    .dataframe thead th {\n",
       "        text-align: right;\n",
       "    }\n",
       "</style>\n",
       "<table border=\"1\" class=\"dataframe\">\n",
       "  <thead>\n",
       "    <tr style=\"text-align: right;\">\n",
       "      <th></th>\n",
       "      <th>horse_age</th>\n",
       "      <th>horse_rating</th>\n",
       "      <th>horse_gear</th>\n",
       "      <th>declared_weight</th>\n",
       "      <th>actual_weight</th>\n",
       "      <th>draw</th>\n",
       "      <th>win_odds</th>\n",
       "      <th>place_odds</th>\n",
       "      <th>surface</th>\n",
       "      <th>distance</th>\n",
       "      <th>...</th>\n",
       "      <th>config_C+3</th>\n",
       "      <th>going_GOOD</th>\n",
       "      <th>going_GOOD TO FIRM</th>\n",
       "      <th>going_GOOD TO YIELDING</th>\n",
       "      <th>going_SLOW</th>\n",
       "      <th>going_SOFT</th>\n",
       "      <th>going_WET FAST</th>\n",
       "      <th>going_WET SLOW</th>\n",
       "      <th>going_YIELDING</th>\n",
       "      <th>going_YIELDING TO SOFT</th>\n",
       "    </tr>\n",
       "  </thead>\n",
       "  <tbody>\n",
       "    <tr>\n",
       "      <td>0</td>\n",
       "      <td>3.0</td>\n",
       "      <td>60.0</td>\n",
       "      <td>0.0</td>\n",
       "      <td>989.0</td>\n",
       "      <td>108.0</td>\n",
       "      <td>10.0</td>\n",
       "      <td>75.0</td>\n",
       "      <td>14.0</td>\n",
       "      <td>0.0</td>\n",
       "      <td>1200.0</td>\n",
       "      <td>...</td>\n",
       "      <td>0.0</td>\n",
       "      <td>0.0</td>\n",
       "      <td>1.0</td>\n",
       "      <td>0.0</td>\n",
       "      <td>0.0</td>\n",
       "      <td>0.0</td>\n",
       "      <td>0.0</td>\n",
       "      <td>0.0</td>\n",
       "      <td>0.0</td>\n",
       "      <td>0.0</td>\n",
       "    </tr>\n",
       "    <tr>\n",
       "      <td>1</td>\n",
       "      <td>5.0</td>\n",
       "      <td>36.0</td>\n",
       "      <td>1.0</td>\n",
       "      <td>1077.0</td>\n",
       "      <td>127.0</td>\n",
       "      <td>4.0</td>\n",
       "      <td>5.9</td>\n",
       "      <td>1.6</td>\n",
       "      <td>0.0</td>\n",
       "      <td>1200.0</td>\n",
       "      <td>...</td>\n",
       "      <td>1.0</td>\n",
       "      <td>1.0</td>\n",
       "      <td>0.0</td>\n",
       "      <td>0.0</td>\n",
       "      <td>0.0</td>\n",
       "      <td>0.0</td>\n",
       "      <td>0.0</td>\n",
       "      <td>0.0</td>\n",
       "      <td>0.0</td>\n",
       "      <td>0.0</td>\n",
       "    </tr>\n",
       "    <tr>\n",
       "      <td>2</td>\n",
       "      <td>5.0</td>\n",
       "      <td>64.0</td>\n",
       "      <td>1.0</td>\n",
       "      <td>1099.0</td>\n",
       "      <td>115.0</td>\n",
       "      <td>4.0</td>\n",
       "      <td>78.0</td>\n",
       "      <td>11.0</td>\n",
       "      <td>1.0</td>\n",
       "      <td>1200.0</td>\n",
       "      <td>...</td>\n",
       "      <td>0.0</td>\n",
       "      <td>1.0</td>\n",
       "      <td>0.0</td>\n",
       "      <td>0.0</td>\n",
       "      <td>0.0</td>\n",
       "      <td>0.0</td>\n",
       "      <td>0.0</td>\n",
       "      <td>0.0</td>\n",
       "      <td>0.0</td>\n",
       "      <td>0.0</td>\n",
       "    </tr>\n",
       "    <tr>\n",
       "      <td>3</td>\n",
       "      <td>3.0</td>\n",
       "      <td>60.0</td>\n",
       "      <td>0.0</td>\n",
       "      <td>1126.0</td>\n",
       "      <td>114.0</td>\n",
       "      <td>5.0</td>\n",
       "      <td>48.0</td>\n",
       "      <td>8.2</td>\n",
       "      <td>0.0</td>\n",
       "      <td>1650.0</td>\n",
       "      <td>...</td>\n",
       "      <td>0.0</td>\n",
       "      <td>1.0</td>\n",
       "      <td>0.0</td>\n",
       "      <td>0.0</td>\n",
       "      <td>0.0</td>\n",
       "      <td>0.0</td>\n",
       "      <td>0.0</td>\n",
       "      <td>0.0</td>\n",
       "      <td>0.0</td>\n",
       "      <td>0.0</td>\n",
       "    </tr>\n",
       "    <tr>\n",
       "      <td>4</td>\n",
       "      <td>3.0</td>\n",
       "      <td>60.0</td>\n",
       "      <td>0.0</td>\n",
       "      <td>1098.0</td>\n",
       "      <td>119.0</td>\n",
       "      <td>8.0</td>\n",
       "      <td>60.0</td>\n",
       "      <td>10.0</td>\n",
       "      <td>0.0</td>\n",
       "      <td>1400.0</td>\n",
       "      <td>...</td>\n",
       "      <td>0.0</td>\n",
       "      <td>1.0</td>\n",
       "      <td>0.0</td>\n",
       "      <td>0.0</td>\n",
       "      <td>0.0</td>\n",
       "      <td>0.0</td>\n",
       "      <td>0.0</td>\n",
       "      <td>0.0</td>\n",
       "      <td>0.0</td>\n",
       "      <td>0.0</td>\n",
       "    </tr>\n",
       "  </tbody>\n",
       "</table>\n",
       "<p>5 rows × 48 columns</p>\n",
       "</div>"
      ],
      "text/plain": [
       "   horse_age  horse_rating  horse_gear  declared_weight  actual_weight  draw  \\\n",
       "0        3.0          60.0         0.0            989.0          108.0  10.0   \n",
       "1        5.0          36.0         1.0           1077.0          127.0   4.0   \n",
       "2        5.0          64.0         1.0           1099.0          115.0   4.0   \n",
       "3        3.0          60.0         0.0           1126.0          114.0   5.0   \n",
       "4        3.0          60.0         0.0           1098.0          119.0   8.0   \n",
       "\n",
       "   win_odds  place_odds  surface  distance  ...  config_C+3  going_GOOD  \\\n",
       "0      75.0        14.0      0.0    1200.0  ...         0.0         0.0   \n",
       "1       5.9         1.6      0.0    1200.0  ...         1.0         1.0   \n",
       "2      78.0        11.0      1.0    1200.0  ...         0.0         1.0   \n",
       "3      48.0         8.2      0.0    1650.0  ...         0.0         1.0   \n",
       "4      60.0        10.0      0.0    1400.0  ...         0.0         1.0   \n",
       "\n",
       "   going_GOOD TO FIRM  going_GOOD TO YIELDING  going_SLOW  going_SOFT  \\\n",
       "0                 1.0                     0.0         0.0         0.0   \n",
       "1                 0.0                     0.0         0.0         0.0   \n",
       "2                 0.0                     0.0         0.0         0.0   \n",
       "3                 0.0                     0.0         0.0         0.0   \n",
       "4                 0.0                     0.0         0.0         0.0   \n",
       "\n",
       "   going_WET FAST  going_WET SLOW  going_YIELDING  going_YIELDING TO SOFT  \n",
       "0             0.0             0.0             0.0                     0.0  \n",
       "1             0.0             0.0             0.0                     0.0  \n",
       "2             0.0             0.0             0.0                     0.0  \n",
       "3             0.0             0.0             0.0                     0.0  \n",
       "4             0.0             0.0             0.0                     0.0  \n",
       "\n",
       "[5 rows x 48 columns]"
      ]
     },
     "execution_count": 58,
     "metadata": {},
     "output_type": "execute_result"
    }
   ],
   "source": [
    "# convert array data into dataframe with column names, and feed into lgb model\n",
    "X_rus = pd.DataFrame(X_rus, columns=list(X_train))\n",
    "X_rus.head()"
   ]
  },
  {
   "cell_type": "code",
   "execution_count": 59,
   "metadata": {
    "slideshow": {
     "slide_type": "fragment"
    }
   },
   "outputs": [
    {
     "name": "stdout",
     "output_type": "stream",
     "text": [
      "time cost: 0.41827 sec\n"
     ]
    }
   ],
   "source": [
    "start = time()\n",
    "\n",
    "d_train = lgb.Dataset(X_rus, label = y_rus)\n",
    "params = {}\n",
    "params['learning_rate'] = 0.003\n",
    "params['boosting_type'] = 'gbdt'\n",
    "params['objective'] = 'binary'\n",
    "params['metric'] = 'binary_logloss'\n",
    "params['sub_feature'] = 0.5\n",
    "params['num_leaves'] = 100\n",
    "params['min_data'] = 500\n",
    "params['max_depth'] = 100\n",
    "clf_rus = lgb.train(params, d_train, 100)\n",
    "\n",
    "end = time()\n",
    "running_time = end - start\n",
    "print('time cost: %.5f sec' %running_time)"
   ]
  },
  {
   "cell_type": "code",
   "execution_count": 60,
   "metadata": {
    "slideshow": {
     "slide_type": "subslide"
    }
   },
   "outputs": [],
   "source": [
    "#Prediction\n",
    "y_pred = clf_rus.predict(X_test)\n",
    "#convert into binary values\n",
    "for i in range(15140):\n",
    "    if y_pred[i] >= 0.55:       # setting threshold \n",
    "        y_pred[i] = 1\n",
    "    else:  \n",
    "        y_pred[i] = 0"
   ]
  },
  {
   "cell_type": "code",
   "execution_count": 61,
   "metadata": {
    "slideshow": {
     "slide_type": "fragment"
    }
   },
   "outputs": [
    {
     "name": "stdout",
     "output_type": "stream",
     "text": [
      "              precision    recall  f1-score   support\n",
      "\n",
      "         0.0       0.94      0.93      0.93     13918\n",
      "         1.0       0.30      0.35      0.32      1222\n",
      "\n",
      "    accuracy                           0.88     15140\n",
      "   macro avg       0.62      0.64      0.63     15140\n",
      "weighted avg       0.89      0.88      0.88     15140\n",
      "\n"
     ]
    }
   ],
   "source": [
    "print(classification_report(y_test, y_pred))"
   ]
  },
  {
   "cell_type": "code",
   "execution_count": 62,
   "metadata": {
    "slideshow": {
     "slide_type": "skip"
    }
   },
   "outputs": [
    {
     "name": "stdout",
     "output_type": "stream",
     "text": [
      "[[12898  1020]\n",
      " [  793   429]]\n"
     ]
    },
    {
     "data": {
      "text/plain": [
       "Text(0, 0.5, 'True')"
      ]
     },
     "execution_count": 62,
     "metadata": {},
     "output_type": "execute_result"
    },
    {
     "data": {
      "image/png": "[encoded data removed]",
      "text/plain": [
       "<Figure size 432x288 with 2 Axes>"
      ]
     },
     "metadata": {
      "needs_background": "light"
     },
     "output_type": "display_data"
    }
   ],
   "source": [
    "labels = ['lose', 'win']\n",
    "cm = confusion_matrix(y_test, y_pred)\n",
    "print(cm)\n",
    "fig = plt.figure()\n",
    "ax = fig.add_subplot(111)\n",
    "cax = ax.matshow(cm)\n",
    "plt.title('Confusion matrix')\n",
    "fig.colorbar(cax)\n",
    "ax.set_xticklabels([''] + labels)\n",
    "ax.set_yticklabels([''] + labels)\n",
    "plt.xlabel('Predicted')\n",
    "plt.ylabel('True')"
   ]
  },
  {
   "cell_type": "code",
   "execution_count": 63,
   "metadata": {
    "slideshow": {
     "slide_type": "skip"
    }
   },
   "outputs": [
    {
     "data": {
      "text/plain": [
       "<matplotlib.axes._subplots.AxesSubplot at 0x7f2fdb7a8518>"
      ]
     },
     "execution_count": 63,
     "metadata": {},
     "output_type": "execute_result"
    },
    {
     "data": {
      "image/png": "[encoded data removed]",
      "text/plain": [
       "<Figure size 432x288 with 1 Axes>"
      ]
     },
     "metadata": {
      "needs_background": "light"
     },
     "output_type": "display_data"
    }
   ],
   "source": [
    "# plot model’s feature importances (Random Under-sampling)\n",
    "lgb.plot_importance(clf_rus, max_num_features=10)"
   ]
  },
  {
   "cell_type": "markdown",
   "metadata": {
    "slideshow": {
     "slide_type": "subslide"
    }
   },
   "source": [
    "## LightGBM (over-sampling)"
   ]
  },
  {
   "cell_type": "code",
   "execution_count": 64,
   "metadata": {
    "slideshow": {
     "slide_type": "skip"
    }
   },
   "outputs": [
    {
     "data": {
      "text/html": [
       "<div>\n",
       "<style scoped>\n",
       "    .dataframe tbody tr th:only-of-type {\n",
       "        vertical-align: middle;\n",
       "    }\n",
       "\n",
       "    .dataframe tbody tr th {\n",
       "        vertical-align: top;\n",
       "    }\n",
       "\n",
       "    .dataframe thead th {\n",
       "        text-align: right;\n",
       "    }\n",
       "</style>\n",
       "<table border=\"1\" class=\"dataframe\">\n",
       "  <thead>\n",
       "    <tr style=\"text-align: right;\">\n",
       "      <th></th>\n",
       "      <th>horse_age</th>\n",
       "      <th>horse_rating</th>\n",
       "      <th>horse_gear</th>\n",
       "      <th>declared_weight</th>\n",
       "      <th>actual_weight</th>\n",
       "      <th>draw</th>\n",
       "      <th>win_odds</th>\n",
       "      <th>place_odds</th>\n",
       "      <th>surface</th>\n",
       "      <th>distance</th>\n",
       "      <th>...</th>\n",
       "      <th>config_C+3</th>\n",
       "      <th>going_GOOD</th>\n",
       "      <th>going_GOOD TO FIRM</th>\n",
       "      <th>going_GOOD TO YIELDING</th>\n",
       "      <th>going_SLOW</th>\n",
       "      <th>going_SOFT</th>\n",
       "      <th>going_WET FAST</th>\n",
       "      <th>going_WET SLOW</th>\n",
       "      <th>going_YIELDING</th>\n",
       "      <th>going_YIELDING TO SOFT</th>\n",
       "    </tr>\n",
       "  </thead>\n",
       "  <tbody>\n",
       "    <tr>\n",
       "      <td>0</td>\n",
       "      <td>3.0</td>\n",
       "      <td>60.0</td>\n",
       "      <td>0.0</td>\n",
       "      <td>989.0</td>\n",
       "      <td>133.0</td>\n",
       "      <td>13.0</td>\n",
       "      <td>4.7</td>\n",
       "      <td>2.1</td>\n",
       "      <td>0.0</td>\n",
       "      <td>1600.0</td>\n",
       "      <td>...</td>\n",
       "      <td>0.0</td>\n",
       "      <td>1.0</td>\n",
       "      <td>0.0</td>\n",
       "      <td>0.0</td>\n",
       "      <td>0.0</td>\n",
       "      <td>0.0</td>\n",
       "      <td>0.0</td>\n",
       "      <td>0.0</td>\n",
       "      <td>0.0</td>\n",
       "      <td>0.0</td>\n",
       "    </tr>\n",
       "    <tr>\n",
       "      <td>1</td>\n",
       "      <td>4.0</td>\n",
       "      <td>39.0</td>\n",
       "      <td>1.0</td>\n",
       "      <td>1134.0</td>\n",
       "      <td>132.0</td>\n",
       "      <td>2.0</td>\n",
       "      <td>16.0</td>\n",
       "      <td>5.2</td>\n",
       "      <td>0.0</td>\n",
       "      <td>1200.0</td>\n",
       "      <td>...</td>\n",
       "      <td>0.0</td>\n",
       "      <td>1.0</td>\n",
       "      <td>0.0</td>\n",
       "      <td>0.0</td>\n",
       "      <td>0.0</td>\n",
       "      <td>0.0</td>\n",
       "      <td>0.0</td>\n",
       "      <td>0.0</td>\n",
       "      <td>0.0</td>\n",
       "      <td>0.0</td>\n",
       "    </tr>\n",
       "    <tr>\n",
       "      <td>2</td>\n",
       "      <td>3.0</td>\n",
       "      <td>60.0</td>\n",
       "      <td>0.0</td>\n",
       "      <td>1064.0</td>\n",
       "      <td>131.0</td>\n",
       "      <td>7.0</td>\n",
       "      <td>8.8</td>\n",
       "      <td>2.7</td>\n",
       "      <td>0.0</td>\n",
       "      <td>1400.0</td>\n",
       "      <td>...</td>\n",
       "      <td>0.0</td>\n",
       "      <td>1.0</td>\n",
       "      <td>0.0</td>\n",
       "      <td>0.0</td>\n",
       "      <td>0.0</td>\n",
       "      <td>0.0</td>\n",
       "      <td>0.0</td>\n",
       "      <td>0.0</td>\n",
       "      <td>0.0</td>\n",
       "      <td>0.0</td>\n",
       "    </tr>\n",
       "    <tr>\n",
       "      <td>3</td>\n",
       "      <td>3.0</td>\n",
       "      <td>60.0</td>\n",
       "      <td>0.0</td>\n",
       "      <td>1052.0</td>\n",
       "      <td>132.0</td>\n",
       "      <td>8.0</td>\n",
       "      <td>7.5</td>\n",
       "      <td>2.4</td>\n",
       "      <td>0.0</td>\n",
       "      <td>1800.0</td>\n",
       "      <td>...</td>\n",
       "      <td>0.0</td>\n",
       "      <td>0.0</td>\n",
       "      <td>1.0</td>\n",
       "      <td>0.0</td>\n",
       "      <td>0.0</td>\n",
       "      <td>0.0</td>\n",
       "      <td>0.0</td>\n",
       "      <td>0.0</td>\n",
       "      <td>0.0</td>\n",
       "      <td>0.0</td>\n",
       "    </tr>\n",
       "    <tr>\n",
       "      <td>4</td>\n",
       "      <td>3.0</td>\n",
       "      <td>51.0</td>\n",
       "      <td>0.0</td>\n",
       "      <td>1066.0</td>\n",
       "      <td>119.0</td>\n",
       "      <td>10.0</td>\n",
       "      <td>57.0</td>\n",
       "      <td>12.0</td>\n",
       "      <td>0.0</td>\n",
       "      <td>1400.0</td>\n",
       "      <td>...</td>\n",
       "      <td>0.0</td>\n",
       "      <td>0.0</td>\n",
       "      <td>1.0</td>\n",
       "      <td>0.0</td>\n",
       "      <td>0.0</td>\n",
       "      <td>0.0</td>\n",
       "      <td>0.0</td>\n",
       "      <td>0.0</td>\n",
       "      <td>0.0</td>\n",
       "      <td>0.0</td>\n",
       "    </tr>\n",
       "  </tbody>\n",
       "</table>\n",
       "<p>5 rows × 48 columns</p>\n",
       "</div>"
      ],
      "text/plain": [
       "   horse_age  horse_rating  horse_gear  declared_weight  actual_weight  draw  \\\n",
       "0        3.0          60.0         0.0            989.0          133.0  13.0   \n",
       "1        4.0          39.0         1.0           1134.0          132.0   2.0   \n",
       "2        3.0          60.0         0.0           1064.0          131.0   7.0   \n",
       "3        3.0          60.0         0.0           1052.0          132.0   8.0   \n",
       "4        3.0          51.0         0.0           1066.0          119.0  10.0   \n",
       "\n",
       "   win_odds  place_odds  surface  distance  ...  config_C+3  going_GOOD  \\\n",
       "0       4.7         2.1      0.0    1600.0  ...         0.0         1.0   \n",
       "1      16.0         5.2      0.0    1200.0  ...         0.0         1.0   \n",
       "2       8.8         2.7      0.0    1400.0  ...         0.0         1.0   \n",
       "3       7.5         2.4      0.0    1800.0  ...         0.0         0.0   \n",
       "4      57.0        12.0      0.0    1400.0  ...         0.0         0.0   \n",
       "\n",
       "   going_GOOD TO FIRM  going_GOOD TO YIELDING  going_SLOW  going_SOFT  \\\n",
       "0                 0.0                     0.0         0.0         0.0   \n",
       "1                 0.0                     0.0         0.0         0.0   \n",
       "2                 0.0                     0.0         0.0         0.0   \n",
       "3                 1.0                     0.0         0.0         0.0   \n",
       "4                 1.0                     0.0         0.0         0.0   \n",
       "\n",
       "   going_WET FAST  going_WET SLOW  going_YIELDING  going_YIELDING TO SOFT  \n",
       "0             0.0             0.0             0.0                     0.0  \n",
       "1             0.0             0.0             0.0                     0.0  \n",
       "2             0.0             0.0             0.0                     0.0  \n",
       "3             0.0             0.0             0.0                     0.0  \n",
       "4             0.0             0.0             0.0                     0.0  \n",
       "\n",
       "[5 rows x 48 columns]"
      ]
     },
     "execution_count": 64,
     "metadata": {},
     "output_type": "execute_result"
    }
   ],
   "source": [
    "# convert array data into dataframe with column names, and feed into lgb model\n",
    "X_sm = pd.DataFrame(X_sm, columns=list(X_train))\n",
    "X_sm.head()"
   ]
  },
  {
   "cell_type": "code",
   "execution_count": 65,
   "metadata": {
    "slideshow": {
     "slide_type": "fragment"
    }
   },
   "outputs": [
    {
     "name": "stdout",
     "output_type": "stream",
     "text": [
      "time cost: 2.60979 sec\n"
     ]
    }
   ],
   "source": [
    "start = time()\n",
    "\n",
    "d_train = lgb.Dataset(X_sm, label = y_sm)\n",
    "params = {}\n",
    "params['learning_rate'] = 0.003\n",
    "params['boosting_type'] = 'gbdt'\n",
    "params['objective'] = 'binary'\n",
    "params['metric'] = 'binary_logloss'\n",
    "params['sub_feature'] = 0.5\n",
    "params['num_leaves'] = 100\n",
    "params['min_data'] = 500\n",
    "params['max_depth'] = 100\n",
    "clf_sm = lgb.train(params, d_train, 100)\n",
    "\n",
    "end = time()\n",
    "running_time = end - start\n",
    "print('time cost: %.5f sec' %running_time)"
   ]
  },
  {
   "cell_type": "code",
   "execution_count": 66,
   "metadata": {
    "slideshow": {
     "slide_type": "subslide"
    }
   },
   "outputs": [],
   "source": [
    "#Prediction\n",
    "y_pred = clf_sm.predict(X_test)\n",
    "#convert into binary values\n",
    "for i in range(15140):\n",
    "    if y_pred[i] >= 0.5:       # setting threshold \n",
    "        y_pred[i] = 1\n",
    "    else:  \n",
    "        y_pred[i] = 0"
   ]
  },
  {
   "cell_type": "code",
   "execution_count": 67,
   "metadata": {
    "slideshow": {
     "slide_type": "fragment"
    }
   },
   "outputs": [
    {
     "name": "stdout",
     "output_type": "stream",
     "text": [
      "              precision    recall  f1-score   support\n",
      "\n",
      "         0.0       0.93      0.99      0.95     13918\n",
      "         1.0       0.36      0.09      0.15      1222\n",
      "\n",
      "    accuracy                           0.91     15140\n",
      "   macro avg       0.64      0.54      0.55     15140\n",
      "weighted avg       0.88      0.91      0.89     15140\n",
      "\n"
     ]
    }
   ],
   "source": [
    "print(classification_report(y_test, y_pred))"
   ]
  },
  {
   "cell_type": "code",
   "execution_count": 68,
   "metadata": {
    "slideshow": {
     "slide_type": "skip"
    }
   },
   "outputs": [
    {
     "name": "stdout",
     "output_type": "stream",
     "text": [
      "[[13714   204]\n",
      " [ 1109   113]]\n"
     ]
    },
    {
     "data": {
      "text/plain": [
       "Text(0, 0.5, 'True')"
      ]
     },
     "execution_count": 68,
     "metadata": {},
     "output_type": "execute_result"
    },
    {
     "data": {
      "image/png": "[encoded data removed]",
      "text/plain": [
       "<Figure size 432x288 with 2 Axes>"
      ]
     },
     "metadata": {
      "needs_background": "light"
     },
     "output_type": "display_data"
    }
   ],
   "source": [
    "labels = ['lose', 'win']\n",
    "cm = confusion_matrix(y_test, y_pred)\n",
    "print(cm)\n",
    "fig = plt.figure()\n",
    "ax = fig.add_subplot(111)\n",
    "cax = ax.matshow(cm)\n",
    "plt.title('Confusion matrix')\n",
    "fig.colorbar(cax)\n",
    "ax.set_xticklabels([''] + labels)\n",
    "ax.set_yticklabels([''] + labels)\n",
    "plt.xlabel('Predicted')\n",
    "plt.ylabel('True')"
   ]
  },
  {
   "cell_type": "code",
   "execution_count": 69,
   "metadata": {
    "slideshow": {
     "slide_type": "skip"
    }
   },
   "outputs": [
    {
     "data": {
      "text/plain": [
       "<matplotlib.axes._subplots.AxesSubplot at 0x7f2fdb827048>"
      ]
     },
     "execution_count": 69,
     "metadata": {},
     "output_type": "execute_result"
    },
    {
     "data": {
      "image/png": "[encoded data removed]",
      "text/plain": [
       "<Figure size 432x288 with 1 Axes>"
      ]
     },
     "metadata": {
      "needs_background": "light"
     },
     "output_type": "display_data"
    }
   ],
   "source": [
    "# plot model’s feature importances (SMOTE)\n",
    "lgb.plot_importance(clf_sm, max_num_features=10)"
   ]
  },
  {
   "cell_type": "markdown",
   "metadata": {
    "slideshow": {
     "slide_type": "fragment"
    }
   },
   "source": [
    "* By processing a lot of data, kNN model trained with over-sampled data took the longest time, while LightGBM model trained with under-sampled data took the shortest time. \n",
    "* kNN models performed relatively worse with low precision score and f1-score of the positive class (1). \n",
    "* Training models aimed at minimize False Positive (predict: win, actual: lose), but it seems True Positive and False Positive are correlated. Same as gambling and investment, you have the chance to win and the risk to lose at the same time.\n",
    "* File sizes of LightGBM models are incredibly small and the time spent on training models is really quick."
   ]
  },
  {
   "cell_type": "markdown",
   "metadata": {
    "slideshow": {
     "slide_type": "skip"
    }
   },
   "source": [
    "LightGBM code reference from Medium [article](https://medium.com/@pushkarmandot/https-medium-com-pushkarmandot-what-is-lightgbm-how-to-implement-it-how-to-fine-tune-the-parameters-60347819b7fc) by Pushkar Mandot. Thank you for sharing your experience! =]"
   ]
  },
  {
   "cell_type": "markdown",
   "metadata": {
    "slideshow": {
     "slide_type": "subslide"
    }
   },
   "source": [
    "# DEPLOY MODELS"
   ]
  },
  {
   "cell_type": "code",
   "execution_count": 70,
   "metadata": {
    "slideshow": {
     "slide_type": "fragment"
    }
   },
   "outputs": [
    {
     "data": {
      "text/html": [
       "<div>\n",
       "<style scoped>\n",
       "    .dataframe tbody tr th:only-of-type {\n",
       "        vertical-align: middle;\n",
       "    }\n",
       "\n",
       "    .dataframe tbody tr th {\n",
       "        vertical-align: top;\n",
       "    }\n",
       "\n",
       "    .dataframe thead th {\n",
       "        text-align: right;\n",
       "    }\n",
       "</style>\n",
       "<table border=\"1\" class=\"dataframe\">\n",
       "  <thead>\n",
       "    <tr style=\"text-align: right;\">\n",
       "      <th></th>\n",
       "      <th>race_id</th>\n",
       "      <th>won</th>\n",
       "      <th>horse_age</th>\n",
       "      <th>horse_rating</th>\n",
       "      <th>horse_gear</th>\n",
       "      <th>declared_weight</th>\n",
       "      <th>actual_weight</th>\n",
       "      <th>draw</th>\n",
       "      <th>win_odds</th>\n",
       "      <th>place_odds</th>\n",
       "      <th>...</th>\n",
       "      <th>config_C+3</th>\n",
       "      <th>going_GOOD</th>\n",
       "      <th>going_GOOD TO FIRM</th>\n",
       "      <th>going_GOOD TO YIELDING</th>\n",
       "      <th>going_SLOW</th>\n",
       "      <th>going_SOFT</th>\n",
       "      <th>going_WET FAST</th>\n",
       "      <th>going_WET SLOW</th>\n",
       "      <th>going_YIELDING</th>\n",
       "      <th>going_YIELDING TO SOFT</th>\n",
       "    </tr>\n",
       "  </thead>\n",
       "  <tbody>\n",
       "    <tr>\n",
       "      <td>76697</td>\n",
       "      <td>6128</td>\n",
       "      <td>0.0</td>\n",
       "      <td>6</td>\n",
       "      <td>80</td>\n",
       "      <td>1</td>\n",
       "      <td>1078.0</td>\n",
       "      <td>133</td>\n",
       "      <td>11</td>\n",
       "      <td>99.0</td>\n",
       "      <td>19.0</td>\n",
       "      <td>...</td>\n",
       "      <td>1</td>\n",
       "      <td>0</td>\n",
       "      <td>1</td>\n",
       "      <td>0</td>\n",
       "      <td>0</td>\n",
       "      <td>0</td>\n",
       "      <td>0</td>\n",
       "      <td>0</td>\n",
       "      <td>0</td>\n",
       "      <td>0</td>\n",
       "    </tr>\n",
       "    <tr>\n",
       "      <td>76698</td>\n",
       "      <td>6128</td>\n",
       "      <td>0.0</td>\n",
       "      <td>4</td>\n",
       "      <td>77</td>\n",
       "      <td>1</td>\n",
       "      <td>1110.0</td>\n",
       "      <td>130</td>\n",
       "      <td>8</td>\n",
       "      <td>13.0</td>\n",
       "      <td>2.9</td>\n",
       "      <td>...</td>\n",
       "      <td>1</td>\n",
       "      <td>0</td>\n",
       "      <td>1</td>\n",
       "      <td>0</td>\n",
       "      <td>0</td>\n",
       "      <td>0</td>\n",
       "      <td>0</td>\n",
       "      <td>0</td>\n",
       "      <td>0</td>\n",
       "      <td>0</td>\n",
       "    </tr>\n",
       "    <tr>\n",
       "      <td>76699</td>\n",
       "      <td>6128</td>\n",
       "      <td>0.0</td>\n",
       "      <td>4</td>\n",
       "      <td>74</td>\n",
       "      <td>0</td>\n",
       "      <td>980.0</td>\n",
       "      <td>127</td>\n",
       "      <td>5</td>\n",
       "      <td>7.9</td>\n",
       "      <td>2.0</td>\n",
       "      <td>...</td>\n",
       "      <td>1</td>\n",
       "      <td>0</td>\n",
       "      <td>1</td>\n",
       "      <td>0</td>\n",
       "      <td>0</td>\n",
       "      <td>0</td>\n",
       "      <td>0</td>\n",
       "      <td>0</td>\n",
       "      <td>0</td>\n",
       "      <td>0</td>\n",
       "    </tr>\n",
       "    <tr>\n",
       "      <td>76700</td>\n",
       "      <td>6128</td>\n",
       "      <td>1.0</td>\n",
       "      <td>3</td>\n",
       "      <td>73</td>\n",
       "      <td>1</td>\n",
       "      <td>1153.0</td>\n",
       "      <td>126</td>\n",
       "      <td>3</td>\n",
       "      <td>1.7</td>\n",
       "      <td>1.2</td>\n",
       "      <td>...</td>\n",
       "      <td>1</td>\n",
       "      <td>0</td>\n",
       "      <td>1</td>\n",
       "      <td>0</td>\n",
       "      <td>0</td>\n",
       "      <td>0</td>\n",
       "      <td>0</td>\n",
       "      <td>0</td>\n",
       "      <td>0</td>\n",
       "      <td>0</td>\n",
       "    </tr>\n",
       "    <tr>\n",
       "      <td>76701</td>\n",
       "      <td>6128</td>\n",
       "      <td>0.0</td>\n",
       "      <td>4</td>\n",
       "      <td>73</td>\n",
       "      <td>1</td>\n",
       "      <td>1117.0</td>\n",
       "      <td>124</td>\n",
       "      <td>2</td>\n",
       "      <td>71.0</td>\n",
       "      <td>11.0</td>\n",
       "      <td>...</td>\n",
       "      <td>1</td>\n",
       "      <td>0</td>\n",
       "      <td>1</td>\n",
       "      <td>0</td>\n",
       "      <td>0</td>\n",
       "      <td>0</td>\n",
       "      <td>0</td>\n",
       "      <td>0</td>\n",
       "      <td>0</td>\n",
       "      <td>0</td>\n",
       "    </tr>\n",
       "    <tr>\n",
       "      <td>76702</td>\n",
       "      <td>6128</td>\n",
       "      <td>0.0</td>\n",
       "      <td>3</td>\n",
       "      <td>70</td>\n",
       "      <td>1</td>\n",
       "      <td>1166.0</td>\n",
       "      <td>123</td>\n",
       "      <td>13</td>\n",
       "      <td>99.0</td>\n",
       "      <td>23.0</td>\n",
       "      <td>...</td>\n",
       "      <td>1</td>\n",
       "      <td>0</td>\n",
       "      <td>1</td>\n",
       "      <td>0</td>\n",
       "      <td>0</td>\n",
       "      <td>0</td>\n",
       "      <td>0</td>\n",
       "      <td>0</td>\n",
       "      <td>0</td>\n",
       "      <td>0</td>\n",
       "    </tr>\n",
       "    <tr>\n",
       "      <td>76703</td>\n",
       "      <td>6128</td>\n",
       "      <td>0.0</td>\n",
       "      <td>4</td>\n",
       "      <td>70</td>\n",
       "      <td>1</td>\n",
       "      <td>1116.0</td>\n",
       "      <td>123</td>\n",
       "      <td>12</td>\n",
       "      <td>17.0</td>\n",
       "      <td>3.0</td>\n",
       "      <td>...</td>\n",
       "      <td>1</td>\n",
       "      <td>0</td>\n",
       "      <td>1</td>\n",
       "      <td>0</td>\n",
       "      <td>0</td>\n",
       "      <td>0</td>\n",
       "      <td>0</td>\n",
       "      <td>0</td>\n",
       "      <td>0</td>\n",
       "      <td>0</td>\n",
       "    </tr>\n",
       "    <tr>\n",
       "      <td>76704</td>\n",
       "      <td>6128</td>\n",
       "      <td>0.0</td>\n",
       "      <td>4</td>\n",
       "      <td>68</td>\n",
       "      <td>1</td>\n",
       "      <td>1068.0</td>\n",
       "      <td>121</td>\n",
       "      <td>10</td>\n",
       "      <td>55.0</td>\n",
       "      <td>9.0</td>\n",
       "      <td>...</td>\n",
       "      <td>1</td>\n",
       "      <td>0</td>\n",
       "      <td>1</td>\n",
       "      <td>0</td>\n",
       "      <td>0</td>\n",
       "      <td>0</td>\n",
       "      <td>0</td>\n",
       "      <td>0</td>\n",
       "      <td>0</td>\n",
       "      <td>0</td>\n",
       "    </tr>\n",
       "    <tr>\n",
       "      <td>76705</td>\n",
       "      <td>6128</td>\n",
       "      <td>0.0</td>\n",
       "      <td>4</td>\n",
       "      <td>67</td>\n",
       "      <td>1</td>\n",
       "      <td>1091.0</td>\n",
       "      <td>118</td>\n",
       "      <td>1</td>\n",
       "      <td>7.9</td>\n",
       "      <td>2.0</td>\n",
       "      <td>...</td>\n",
       "      <td>1</td>\n",
       "      <td>0</td>\n",
       "      <td>1</td>\n",
       "      <td>0</td>\n",
       "      <td>0</td>\n",
       "      <td>0</td>\n",
       "      <td>0</td>\n",
       "      <td>0</td>\n",
       "      <td>0</td>\n",
       "      <td>0</td>\n",
       "    </tr>\n",
       "    <tr>\n",
       "      <td>76706</td>\n",
       "      <td>6128</td>\n",
       "      <td>0.0</td>\n",
       "      <td>4</td>\n",
       "      <td>65</td>\n",
       "      <td>0</td>\n",
       "      <td>1141.0</td>\n",
       "      <td>116</td>\n",
       "      <td>4</td>\n",
       "      <td>33.0</td>\n",
       "      <td>5.7</td>\n",
       "      <td>...</td>\n",
       "      <td>1</td>\n",
       "      <td>0</td>\n",
       "      <td>1</td>\n",
       "      <td>0</td>\n",
       "      <td>0</td>\n",
       "      <td>0</td>\n",
       "      <td>0</td>\n",
       "      <td>0</td>\n",
       "      <td>0</td>\n",
       "      <td>0</td>\n",
       "    </tr>\n",
       "    <tr>\n",
       "      <td>76707</td>\n",
       "      <td>6128</td>\n",
       "      <td>0.0</td>\n",
       "      <td>6</td>\n",
       "      <td>64</td>\n",
       "      <td>1</td>\n",
       "      <td>1066.0</td>\n",
       "      <td>110</td>\n",
       "      <td>6</td>\n",
       "      <td>99.0</td>\n",
       "      <td>14.0</td>\n",
       "      <td>...</td>\n",
       "      <td>1</td>\n",
       "      <td>0</td>\n",
       "      <td>1</td>\n",
       "      <td>0</td>\n",
       "      <td>0</td>\n",
       "      <td>0</td>\n",
       "      <td>0</td>\n",
       "      <td>0</td>\n",
       "      <td>0</td>\n",
       "      <td>0</td>\n",
       "    </tr>\n",
       "    <tr>\n",
       "      <td>76708</td>\n",
       "      <td>6128</td>\n",
       "      <td>0.0</td>\n",
       "      <td>3</td>\n",
       "      <td>63</td>\n",
       "      <td>1</td>\n",
       "      <td>1115.0</td>\n",
       "      <td>109</td>\n",
       "      <td>14</td>\n",
       "      <td>8.2</td>\n",
       "      <td>2.0</td>\n",
       "      <td>...</td>\n",
       "      <td>1</td>\n",
       "      <td>0</td>\n",
       "      <td>1</td>\n",
       "      <td>0</td>\n",
       "      <td>0</td>\n",
       "      <td>0</td>\n",
       "      <td>0</td>\n",
       "      <td>0</td>\n",
       "      <td>0</td>\n",
       "      <td>0</td>\n",
       "    </tr>\n",
       "    <tr>\n",
       "      <td>76709</td>\n",
       "      <td>6128</td>\n",
       "      <td>0.0</td>\n",
       "      <td>4</td>\n",
       "      <td>63</td>\n",
       "      <td>1</td>\n",
       "      <td>1180.0</td>\n",
       "      <td>117</td>\n",
       "      <td>7</td>\n",
       "      <td>59.0</td>\n",
       "      <td>9.9</td>\n",
       "      <td>...</td>\n",
       "      <td>1</td>\n",
       "      <td>0</td>\n",
       "      <td>1</td>\n",
       "      <td>0</td>\n",
       "      <td>0</td>\n",
       "      <td>0</td>\n",
       "      <td>0</td>\n",
       "      <td>0</td>\n",
       "      <td>0</td>\n",
       "      <td>0</td>\n",
       "    </tr>\n",
       "    <tr>\n",
       "      <td>76710</td>\n",
       "      <td>6128</td>\n",
       "      <td>0.0</td>\n",
       "      <td>3</td>\n",
       "      <td>63</td>\n",
       "      <td>1</td>\n",
       "      <td>1151.0</td>\n",
       "      <td>116</td>\n",
       "      <td>9</td>\n",
       "      <td>99.0</td>\n",
       "      <td>26.0</td>\n",
       "      <td>...</td>\n",
       "      <td>1</td>\n",
       "      <td>0</td>\n",
       "      <td>1</td>\n",
       "      <td>0</td>\n",
       "      <td>0</td>\n",
       "      <td>0</td>\n",
       "      <td>0</td>\n",
       "      <td>0</td>\n",
       "      <td>0</td>\n",
       "      <td>0</td>\n",
       "    </tr>\n",
       "  </tbody>\n",
       "</table>\n",
       "<p>14 rows × 50 columns</p>\n",
       "</div>"
      ],
      "text/plain": [
       "       race_id  won  horse_age  horse_rating  horse_gear  declared_weight  \\\n",
       "76697     6128  0.0          6            80           1           1078.0   \n",
       "76698     6128  0.0          4            77           1           1110.0   \n",
       "76699     6128  0.0          4            74           0            980.0   \n",
       "76700     6128  1.0          3            73           1           1153.0   \n",
       "76701     6128  0.0          4            73           1           1117.0   \n",
       "76702     6128  0.0          3            70           1           1166.0   \n",
       "76703     6128  0.0          4            70           1           1116.0   \n",
       "76704     6128  0.0          4            68           1           1068.0   \n",
       "76705     6128  0.0          4            67           1           1091.0   \n",
       "76706     6128  0.0          4            65           0           1141.0   \n",
       "76707     6128  0.0          6            64           1           1066.0   \n",
       "76708     6128  0.0          3            63           1           1115.0   \n",
       "76709     6128  0.0          4            63           1           1180.0   \n",
       "76710     6128  0.0          3            63           1           1151.0   \n",
       "\n",
       "       actual_weight  draw  win_odds  place_odds  ...  config_C+3  going_GOOD  \\\n",
       "76697            133    11      99.0        19.0  ...           1           0   \n",
       "76698            130     8      13.0         2.9  ...           1           0   \n",
       "76699            127     5       7.9         2.0  ...           1           0   \n",
       "76700            126     3       1.7         1.2  ...           1           0   \n",
       "76701            124     2      71.0        11.0  ...           1           0   \n",
       "76702            123    13      99.0        23.0  ...           1           0   \n",
       "76703            123    12      17.0         3.0  ...           1           0   \n",
       "76704            121    10      55.0         9.0  ...           1           0   \n",
       "76705            118     1       7.9         2.0  ...           1           0   \n",
       "76706            116     4      33.0         5.7  ...           1           0   \n",
       "76707            110     6      99.0        14.0  ...           1           0   \n",
       "76708            109    14       8.2         2.0  ...           1           0   \n",
       "76709            117     7      59.0         9.9  ...           1           0   \n",
       "76710            116     9      99.0        26.0  ...           1           0   \n",
       "\n",
       "       going_GOOD TO FIRM  going_GOOD TO YIELDING  going_SLOW  going_SOFT  \\\n",
       "76697                   1                       0           0           0   \n",
       "76698                   1                       0           0           0   \n",
       "76699                   1                       0           0           0   \n",
       "76700                   1                       0           0           0   \n",
       "76701                   1                       0           0           0   \n",
       "76702                   1                       0           0           0   \n",
       "76703                   1                       0           0           0   \n",
       "76704                   1                       0           0           0   \n",
       "76705                   1                       0           0           0   \n",
       "76706                   1                       0           0           0   \n",
       "76707                   1                       0           0           0   \n",
       "76708                   1                       0           0           0   \n",
       "76709                   1                       0           0           0   \n",
       "76710                   1                       0           0           0   \n",
       "\n",
       "       going_WET FAST  going_WET SLOW  going_YIELDING  going_YIELDING TO SOFT  \n",
       "76697               0               0               0                       0  \n",
       "76698               0               0               0                       0  \n",
       "76699               0               0               0                       0  \n",
       "76700               0               0               0                       0  \n",
       "76701               0               0               0                       0  \n",
       "76702               0               0               0                       0  \n",
       "76703               0               0               0                       0  \n",
       "76704               0               0               0                       0  \n",
       "76705               0               0               0                       0  \n",
       "76706               0               0               0                       0  \n",
       "76707               0               0               0                       0  \n",
       "76708               0               0               0                       0  \n",
       "76709               0               0               0                       0  \n",
       "76710               0               0               0                       0  \n",
       "\n",
       "[14 rows x 50 columns]"
      ]
     },
     "execution_count": 70,
     "metadata": {},
     "output_type": "execute_result"
    }
   ],
   "source": [
    "# data that never been seen by the models\n",
    "last_race"
   ]
  },
  {
   "cell_type": "code",
   "execution_count": 71,
   "metadata": {
    "slideshow": {
     "slide_type": "fragment"
    }
   },
   "outputs": [],
   "source": [
    "# drop unnecessary columns & define data and labels\n",
    "X_deploy = last_race.drop(columns=['race_id', 'won'])\n",
    "y_deploy = last_race.won"
   ]
  },
  {
   "cell_type": "markdown",
   "metadata": {
    "slideshow": {
     "slide_type": "subslide"
    }
   },
   "source": [
    "## Load kNN model trained with original data"
   ]
  },
  {
   "cell_type": "code",
   "execution_count": 72,
   "metadata": {
    "slideshow": {
     "slide_type": "fragment"
    }
   },
   "outputs": [
    {
     "name": "stdout",
     "output_type": "stream",
     "text": [
      "              precision    recall  f1-score   support\n",
      "\n",
      "         0.0       0.92      0.85      0.88        13\n",
      "         1.0       0.00      0.00      0.00         1\n",
      "\n",
      "    accuracy                           0.79        14\n",
      "   macro avg       0.46      0.42      0.44        14\n",
      "weighted avg       0.85      0.79      0.82        14\n",
      "\n"
     ]
    }
   ],
   "source": [
    "predictions = knn.predict(X_deploy)\n",
    "print(classification_report(y_deploy, predictions))"
   ]
  },
  {
   "cell_type": "markdown",
   "metadata": {
    "slideshow": {
     "slide_type": "fragment"
    }
   },
   "source": [
    "Only class 0 (lose) can be predicted. "
   ]
  },
  {
   "cell_type": "markdown",
   "metadata": {
    "slideshow": {
     "slide_type": "subslide"
    }
   },
   "source": [
    "## Load kNN model trained with under-sampled data"
   ]
  },
  {
   "cell_type": "code",
   "execution_count": 73,
   "metadata": {
    "slideshow": {
     "slide_type": "fragment"
    }
   },
   "outputs": [
    {
     "name": "stdout",
     "output_type": "stream",
     "text": [
      "              precision    recall  f1-score   support\n",
      "\n",
      "         0.0       1.00      0.92      0.96        13\n",
      "         1.0       0.50      1.00      0.67         1\n",
      "\n",
      "    accuracy                           0.93        14\n",
      "   macro avg       0.75      0.96      0.81        14\n",
      "weighted avg       0.96      0.93      0.94        14\n",
      "\n"
     ]
    }
   ],
   "source": [
    "predictions = knn_rus.predict(X_deploy)\n",
    "print(classification_report(y_deploy, predictions))"
   ]
  },
  {
   "cell_type": "markdown",
   "metadata": {
    "slideshow": {
     "slide_type": "fragment"
    }
   },
   "source": [
    "kNN model trained with under-sampled data can predict the winning horse. However, there is also one False Positive in the prediction. "
   ]
  },
  {
   "cell_type": "code",
   "execution_count": 74,
   "metadata": {
    "slideshow": {
     "slide_type": "subslide"
    }
   },
   "outputs": [
    {
     "data": {
      "text/plain": [
       "Text(0, 0.5, 'Actual')"
      ]
     },
     "execution_count": 74,
     "metadata": {},
     "output_type": "execute_result"
    },
    {
     "data": {
      "image/png": "[encoded data removed]",
      "text/plain": [
       "<Figure size 432x288 with 2 Axes>"
      ]
     },
     "metadata": {
      "needs_background": "light"
     },
     "output_type": "display_data"
    }
   ],
   "source": [
    "import numpy as np\n",
    "\n",
    "data = confusion_matrix(y_deploy, predictions)\n",
    "\n",
    "fig, ax = plt.subplots()\n",
    "cax = ax.matshow(data, cmap='RdBu')\n",
    "\n",
    "for (i, j), z in np.ndenumerate(data):\n",
    "    ax.text(j, i, '{}'.format(z), ha='center', va='center',\n",
    "            bbox=dict(boxstyle='round', facecolor='white', edgecolor='0.3'))\n",
    "    \n",
    "plt.title('Confusion matrix of kNN_rus', y=1.1)\n",
    "fig.colorbar(cax)\n",
    "labels = ['lose', 'win']\n",
    "ax.set_xticklabels([''] + labels)\n",
    "ax.set_yticklabels([''] + labels)\n",
    "plt.xlabel('Prediction')\n",
    "plt.ylabel('Actual')"
   ]
  },
  {
   "cell_type": "markdown",
   "metadata": {
    "slideshow": {
     "slide_type": "subslide"
    }
   },
   "source": [
    "## Load kNN model trained with over-sampled data"
   ]
  },
  {
   "cell_type": "code",
   "execution_count": 75,
   "metadata": {
    "slideshow": {
     "slide_type": "fragment"
    }
   },
   "outputs": [
    {
     "name": "stdout",
     "output_type": "stream",
     "text": [
      "              precision    recall  f1-score   support\n",
      "\n",
      "         0.0       0.92      0.92      0.92        13\n",
      "         1.0       0.00      0.00      0.00         1\n",
      "\n",
      "    accuracy                           0.86        14\n",
      "   macro avg       0.46      0.46      0.46        14\n",
      "weighted avg       0.86      0.86      0.86        14\n",
      "\n"
     ]
    }
   ],
   "source": [
    "predictions = knn_sm.predict(X_deploy)\n",
    "print(classification_report(y_deploy, predictions))"
   ]
  },
  {
   "cell_type": "markdown",
   "metadata": {
    "slideshow": {
     "slide_type": "fragment"
    }
   },
   "source": [
    "Only class 0 (lose) can be predicted."
   ]
  },
  {
   "cell_type": "markdown",
   "metadata": {
    "slideshow": {
     "slide_type": "subslide"
    }
   },
   "source": [
    "## Load LightGBM models & Set threshold values same as the training models"
   ]
  },
  {
   "cell_type": "code",
   "execution_count": 76,
   "metadata": {
    "slideshow": {
     "slide_type": "fragment"
    }
   },
   "outputs": [],
   "source": [
    "predictions = clf.predict(X_deploy)\n",
    "#convert into binary values\n",
    "for i in range(14):\n",
    "    if predictions[i] >= 0.0995:       # setting threshold \n",
    "        predictions[i] = 1\n",
    "    else:  \n",
    "        predictions[i] = 0"
   ]
  },
  {
   "cell_type": "code",
   "execution_count": 77,
   "metadata": {
    "slideshow": {
     "slide_type": "fragment"
    }
   },
   "outputs": [],
   "source": [
    "predictions_rus = clf_rus.predict(X_deploy)\n",
    "#convert into binary values\n",
    "for i in range(14):\n",
    "    if predictions_rus[i] >= 0.55:       # setting threshold \n",
    "        predictions_rus[i] = 1\n",
    "    else:  \n",
    "        predictions_rus[i] = 0"
   ]
  },
  {
   "cell_type": "code",
   "execution_count": 78,
   "metadata": {
    "slideshow": {
     "slide_type": "fragment"
    }
   },
   "outputs": [],
   "source": [
    "predictions_sm = clf_sm.predict(X_deploy)\n",
    "#convert into binary values\n",
    "for i in range(14):\n",
    "    if predictions_sm[i] >= 0.5:       # setting threshold \n",
    "        predictions_sm[i] = 1\n",
    "    else:  \n",
    "        predictions_sm[i] = 0"
   ]
  },
  {
   "cell_type": "markdown",
   "metadata": {
    "slideshow": {
     "slide_type": "subslide"
    }
   },
   "source": [
    "## Predictions of the LightGBM models"
   ]
  },
  {
   "cell_type": "code",
   "execution_count": 79,
   "metadata": {
    "slideshow": {
     "slide_type": "fragment"
    }
   },
   "outputs": [
    {
     "name": "stdout",
     "output_type": "stream",
     "text": [
      "              precision    recall  f1-score   support\n",
      "\n",
      "         0.0       1.00      1.00      1.00        13\n",
      "         1.0       1.00      1.00      1.00         1\n",
      "\n",
      "    accuracy                           1.00        14\n",
      "   macro avg       1.00      1.00      1.00        14\n",
      "weighted avg       1.00      1.00      1.00        14\n",
      "\n"
     ]
    }
   ],
   "source": [
    "print(classification_report(y_deploy, predictions))"
   ]
  },
  {
   "cell_type": "code",
   "execution_count": 80,
   "metadata": {
    "slideshow": {
     "slide_type": "fragment"
    }
   },
   "outputs": [
    {
     "name": "stdout",
     "output_type": "stream",
     "text": [
      "              precision    recall  f1-score   support\n",
      "\n",
      "         0.0       1.00      1.00      1.00        13\n",
      "         1.0       1.00      1.00      1.00         1\n",
      "\n",
      "    accuracy                           1.00        14\n",
      "   macro avg       1.00      1.00      1.00        14\n",
      "weighted avg       1.00      1.00      1.00        14\n",
      "\n"
     ]
    }
   ],
   "source": [
    "print(classification_report(y_deploy, predictions_rus))"
   ]
  },
  {
   "cell_type": "code",
   "execution_count": 81,
   "metadata": {
    "slideshow": {
     "slide_type": "subslide"
    }
   },
   "outputs": [
    {
     "name": "stdout",
     "output_type": "stream",
     "text": [
      "              precision    recall  f1-score   support\n",
      "\n",
      "         0.0       1.00      1.00      1.00        13\n",
      "         1.0       1.00      1.00      1.00         1\n",
      "\n",
      "    accuracy                           1.00        14\n",
      "   macro avg       1.00      1.00      1.00        14\n",
      "weighted avg       1.00      1.00      1.00        14\n",
      "\n"
     ]
    }
   ],
   "source": [
    "print(classification_report(y_deploy, predictions_sm))"
   ]
  },
  {
   "cell_type": "markdown",
   "metadata": {
    "slideshow": {
     "slide_type": "fragment"
    }
   },
   "source": [
    "All LightGBM models can achieve 100% accuracy rate. "
   ]
  },
  {
   "cell_type": "code",
   "execution_count": 82,
   "metadata": {
    "slideshow": {
     "slide_type": "subslide"
    }
   },
   "outputs": [
    {
     "data": {
      "text/plain": [
       "Text(0, 0.5, 'Actual')"
      ]
     },
     "execution_count": 82,
     "metadata": {},
     "output_type": "execute_result"
    },
    {
     "data": {
      "image/png": "[encoded data removed]",
      "text/plain": [
       "<Figure size 432x288 with 2 Axes>"
      ]
     },
     "metadata": {
      "needs_background": "light"
     },
     "output_type": "display_data"
    }
   ],
   "source": [
    "data = confusion_matrix(y_deploy, predictions)\n",
    "\n",
    "fig, ax = plt.subplots()\n",
    "cax = ax.matshow(data, cmap='RdBu')\n",
    "\n",
    "for (i, j), z in np.ndenumerate(data):\n",
    "    ax.text(j, i, '{}'.format(z), ha='center', va='center',\n",
    "            bbox=dict(boxstyle='round', facecolor='white', edgecolor='0.3'))\n",
    "    \n",
    "plt.title('Confusion matrix of LightGBM models', y=1.1)\n",
    "fig.colorbar(cax)\n",
    "labels = ['lose', 'win']\n",
    "ax.set_xticklabels([''] + labels)\n",
    "ax.set_yticklabels([''] + labels)\n",
    "plt.xlabel('Prediction')\n",
    "plt.ylabel('Actual')"
   ]
  },
  {
   "cell_type": "markdown",
   "metadata": {
    "slideshow": {
     "slide_type": "subslide"
    }
   },
   "source": [
    "## Conclusions:\n",
    "For KNeighborsClassifier, only model trained with under-sampled data can predict both class 0 and class 1 (with one False Positive error). The original data model and over-sampling model can only predict class 0.  <br/>\n",
    "LightGBM models can predict all data correctly, even using the model trained with skewed dataset (by tuning the threshold value). "
   ]
  },
  {
   "cell_type": "markdown",
   "metadata": {
    "slideshow": {
     "slide_type": "skip"
    }
   },
   "source": [
    "Confusion matrix plot code reference from [Stack Overflow](https://stackoverflow.com/questions/20998083/show-the-values-in-the-grid-using-matplotlib) user Joe Kington. Thank you for sharing your experience! =]"
   ]
  }
 ],
 "metadata": {
  "celltoolbar": "Slideshow",
  "kernelspec": {
   "display_name": "Python 3",
   "language": "python",
   "name": "python3"
  },
  "language_info": {
   "codemirror_mode": {
    "name": "ipython",
    "version": 3
   },
   "file_extension": ".py",
   "mimetype": "text/x-python",
   "name": "python",
   "nbconvert_exporter": "python",
   "pygments_lexer": "ipython3",
   "version": "3.6.6"
  }
 },
 "nbformat": 4,
 "nbformat_minor": 1
}
